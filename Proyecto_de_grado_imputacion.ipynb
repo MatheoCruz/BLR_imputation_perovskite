{
  "nbformat": 4,
  "nbformat_minor": 0,
  "metadata": {
    "colab": {
      "provenance": [],
      "authorship_tag": "ABX9TyOaP/QAmZemIYC7vss39T9J",
      "include_colab_link": true
    },
    "kernelspec": {
      "name": "python3",
      "display_name": "Python 3"
    },
    "language_info": {
      "name": "python"
    }
  },
  "cells": [
    {
      "cell_type": "markdown",
      "metadata": {
        "id": "view-in-github",
        "colab_type": "text"
      },
      "source": [
        "<a href=\"https://colab.research.google.com/github/MatheoCruz/BLR_imputation_perovskite/blob/main/Proyecto_de_grado_imputacion.ipynb\" target=\"_parent\"><img src=\"https://colab.research.google.com/assets/colab-badge.svg\" alt=\"Open In Colab\"/></a>"
      ]
    },
    {
      "cell_type": "markdown",
      "source": [
        "# *PROYECTO DE GRADO: ETAPA DE INFERENCIA BAYESIANA (Imputación)*\n"
      ],
      "metadata": {
        "id": "un-oD4UMVZ48"
      }
    },
    {
      "cell_type": "markdown",
      "source": [
        "## IMPORTACION"
      ],
      "metadata": {
        "id": "bYtIeReSVzkp"
      }
    },
    {
      "cell_type": "code",
      "source": [
        "from google.colab import drive\n",
        "drive.mount('/content/drive')"
      ],
      "metadata": {
        "colab": {
          "base_uri": "https://localhost:8080/"
        },
        "id": "60vjWsLDrck0",
        "outputId": "944a4d27-9ad2-4626-b02a-5ade668b1c7b"
      },
      "execution_count": 2,
      "outputs": [
        {
          "output_type": "stream",
          "name": "stdout",
          "text": [
            "Mounted at /content/drive\n"
          ]
        }
      ]
    },
    {
      "cell_type": "code",
      "source": [
        "#Importacion de librerias\n",
        "import pandas as pd\n",
        "import numpy as np\n",
        "import matplotlib.pyplot as plt\n",
        "import pymc as pm\n",
        "import arviz as az\n",
        "from functools import partial\n",
        "from scipy.stats import norm\n",
        "from sklearn.model_selection import KFold\n",
        "from scipy import stats\n",
        "import seaborn as sns\n",
        "import pickle\n",
        "#Importacion de base de datos\n",
        "#Import data base\n",
        "data = pd.DataFrame(pd.read_csv(\"/content/drive/MyDrive/Deep Learning/TG/Preprocesamiento/datos_sintesis.csv\"))#datos de entrenamiento preprocesados\n",
        "priori_x_grids = pd.DataFrame(pd.read_csv(\"/content/drive/MyDrive/Deep Learning/TG/Preprocesamiento/priori_x_grids.csv\")) #grilla eje X del PDF priori generada por KDE para las variables A, B, X, Band_gap, Thickness, PCE, Jsc, FF, Voc\n",
        "priori_y_grids = pd.DataFrame(pd.read_csv(\"/content/drive/MyDrive/Deep Learning/TG/Preprocesamiento/priori_y_grids.csv\")) #grilla eje Y del PDF priori generada por KDE para las variables A, B, X, Band_gap, Thickness, PCE, Jsc, FF, Voc"
      ],
      "metadata": {
        "id": "e4nIn6fjV6qi"
      },
      "execution_count": 3,
      "outputs": []
    },
    {
      "cell_type": "code",
      "source": [
        "#creamos los kde para la construccion de los priori\n",
        "priori_x_grids = {'A':priori_x_grids['A'], 'B':priori_x_grids['B'], 'X':priori_x_grids['X'], 'Band_gap':priori_x_grids['Bandgap'],\n",
        "         'Thickness':priori_x_grids['Thickness'], 'PCE':priori_x_grids['PCE'], 'Voc':priori_x_grids['Voc'], 'Jsc':priori_x_grids['Jsc'], 'FF':priori_x_grids['FF']}\n",
        "priori_y_grids = {'A':priori_y_grids['A'], 'B':priori_y_grids['B'], 'X':priori_y_grids['X'], 'Band_gap':priori_y_grids['Bandgap'],\n",
        "         'Thickness':priori_y_grids['Thickness'], 'PCE':priori_y_grids['PCE'], 'Voc':priori_y_grids['Voc'], 'Jsc':priori_y_grids['Jsc'], 'FF':priori_y_grids['FF']}"
      ],
      "metadata": {
        "id": "KwfYTrCkpaWg"
      },
      "execution_count": 4,
      "outputs": []
    },
    {
      "cell_type": "markdown",
      "source": [
        "## FUNCIONES\n",
        "### correlacion_pearson:\n",
        "Esta funcion calculo la correlacion de pearson existente entre las variables del modelo y sus posibles transformaciones, dotando esta relacion de un valor numerico.\n",
        "### transformation_optima:\n",
        "Esta funcion toma como entrada la correlacion existente entre las variables y sus posibles transformaciones y busca obtener la mejor transformacion dado el valor numerico de la correlacion y un umbral minimo que ha de cumplir dicha correlacion.\n",
        "### transformation_by_variable:\n",
        "Toma como parametro de entrada la transformacion optima, y dado una variable de interes se ordenan para esta las transformaciones de cada variable asociada a esta.\n",
        "### make_transformations:\n",
        "Esta funcion toma un conjunto de datos y una variable de interes, a la que dada las transformaciones optimas por variable realiza las transformaciones indicadas al conjunto de datos.\n",
        "### pdf_normal:\n",
        "Retorna una funcion de densidad de probabilidad normal, asociandola a un nombre, una media y una desviacion estandar.\n",
        "### build_linear_model_bayesian\n",
        "$$Y = βX + α$$\n",
        "Tomando como comparativa la regresion lineal tradicional, la regresion lineal bayesiana es muy similar, siendo $α$ la funcion de densidad de probabiliad priori, es decir la creencia previa del comportamiento de $Y$, y siendo $\\beta$ los parametros predictores asociados a las entradas $X$ del modelo."
      ],
      "metadata": {
        "id": "tZ_nbcIqv2SE"
      }
    },
    {
      "cell_type": "code",
      "source": [
        "#FUNCIONES\n",
        "#Constructor de una PDF normal\n",
        "def pdf_normal(name, mean, std):\n",
        "  return pm.Normal(name, mu = mean, sigma = std) #Retorna una PDF normal con una clave o etiqueta dada por \"name\".\n",
        "#-------------------------------------------------------------------------------\n",
        "\n",
        "#Funcion de normalizacion de PDF\n",
        "def normalizacion_pdf(grid_x, grid_y):\n",
        "  #Escalar la distribucion para que el area bajo la curva sea igual a 1\n",
        "  area_bajo_curva = np.trapz(grid_y, grid_x)\n",
        "  grid_y_normalizada = grid_y/area_bajo_curva\n",
        "\n",
        "  #Calcular el promedio ponderado de grid_x para centrar en cero\n",
        "  media_ponderada = np.trapz(grid_x * grid_y_normalizada, grid_x)\n",
        "  grid_x_centro_cero = grid_x - media_ponderada\n",
        "\n",
        "  return grid_x_centro_cero, grid_y_normalizada\n",
        "#-------------------------------------------------------------------------------\n",
        "\n",
        "#Funcion de correlacion de pearson\n",
        "def correlation_pearson(data):\n",
        "  transformations = [None, np.log, np.exp, np.square, np.sqrt] #Transformaciones u operaciones predeterminadas a analizar.\n",
        "  name_transformations = [\"None\", \"log\", \"exp\", \"square\", \"sqrt\"] #String representativo de las transformaciones.\n",
        "  correlation_types = [\"pearson\"] #Se define el tipo de correlacion que se va determinar \"pearson\" en este caso, indica la correlacioon directamente lineal.\n",
        "  # Calcular correlaciones\n",
        "  correlations = {} #Variable de salida que contiene la correlacion de cada variable frente a las otras variables.\n",
        "  restrictions = {} #Variable de salida que contiene las variables cuya transformacion genera indeterminaciones.\n",
        "  for column_name in data.columns: #Se extrae columna por columna su determiando indice para realizar el analisis.\n",
        "      column = data[column_name] #Se extrae dicha columna.\n",
        "      column_correlations = {} #Variable temporal de la correlacion por columna.\n",
        "      temporary_restrictions = {} #Variable temporalñ de las restricciones.\n",
        "      i=0\n",
        "      for transform in transformations: #Trasformaciones\n",
        "          column_transformed = column if transform is None else column.apply(transform) #Se aplica la transformacion.\n",
        "          for correlation_type in correlation_types:\n",
        "              data_transformed = pd.concat([data.drop(column_name, axis=1), column_transformed], axis=1) #Columna de variable transformada.\n",
        "              corr = data_transformed.corr(method=correlation_type) #Correlacion de dicha variable transformada con el resto de variables o columnas.\n",
        "              column_correlations[name_transformations[i]] = corr[column_name][:-1] #Se guarda la correlacion dada la transformacion.\n",
        "              if np.isnan(column_transformed).any(): #Condicionamiento de la restriccion\n",
        "                temporary_restrictions[name_transformations[i]] = True\n",
        "              else:\n",
        "                temporary_restrictions[name_transformations[i]] = False\n",
        "          i=i+1\n",
        "          correlations[column_name] = column_correlations #Correlaciones por variable.\n",
        "          restrictions[column_name] = temporary_restrictions #Restricciones por variable.\n",
        "  return correlations, restrictions\n",
        "#-------------------------------------------------------------------------------\n",
        "\n",
        "#Funcion que determina la transformacion optima de la variable basado en la correlacion de pearson\n",
        "def transformation_optima(correlations,restrictions,umbral = 0.55):\n",
        "  correlations = pd.DataFrame(correlations) #Se convierte a DF el diccionario de correlaciones.\n",
        "  m,n = correlations.shape #Se extraen sus dimensiones.\n",
        "  optimal_transformation = {} #Variable de salida que contiene la transformacion optima\n",
        "  transformations = [None, np.log, np.exp, np.square, np.sqrt] #Transformaciones\n",
        "  name_transformations = [\"None\", \"log\", \"exp\", \"square\", \"sqrt\"] #String asociado a las transformaciones\n",
        "  for columns in correlations.columns: #Se extrae variable por columna del diccionario de correlaciones.\n",
        "    temporary_transformation = [\"None\"]*(n-1) #Variable temporal e inicial de la transformacion optima\n",
        "    temporary_conditional = [0]*(n-1) #Variable de condicional temporal e inicial.\n",
        "    for names in name_transformations: #Se analiza una transformacion a la vez.\n",
        "      i = 0\n",
        "      temporary_optimal_transformation = {} #variable temporal de las entradas de las transformaciones\n",
        "      for i in range(n-1):\n",
        "        key = correlations[columns][names].keys()[i] #variable correlacionada.\n",
        "        conditional = round(correlations[columns][names][key],2) #Se establece la condicion de optima correlacion\n",
        "        if restrictions[columns][names]: #Restriccion de indeterminaciones\n",
        "          temporary_optimal_transformation[key] = 'None'\n",
        "        else:\n",
        "          if abs(conditional) > umbral: #Condicion de valor minimo absoluto de correlacion.\n",
        "            if abs(conditional) > temporary_conditional[i]: #Condicion de valor mayor que el valor anterior de correlacion\n",
        "              temporary_optimal_transformation[key] = names #Optima transformacion por variable correlacionada actual.\n",
        "              temporary_transformation[i] = names #Se guarda en una variable temporal el nombre de la transformacion\n",
        "              temporary_conditional[i] = abs(conditional) #Se guarda el valor actual de correlacion.\n",
        "            else:\n",
        "              temporary_optimal_transformation[key] = temporary_transformation[i] #Optima transfoprmacion por variable correlacionada anterior.\n",
        "          else:\n",
        "            temporary_optimal_transformation[key] = temporary_transformation[i] #Optima transformacion por variable correlacionada anterior o inicial.\n",
        "    optimal_transformation[columns] = temporary_optimal_transformation #Optima transformacion pro variable.\n",
        "  return optimal_transformation\n",
        "#--------------------------------------------------------------------------------\n",
        "\n",
        "#Funcion que construlle la transformacion optima de los parametros de entrada para una variable de interes\n",
        "def transformation_by_variable(optimal_transformation):\n",
        "  transformations_by_variable = {} #Se ordenal las transformaciones optimas que se realizaran dependiendo de la variable de interes.\n",
        "  for keys in optimal_transformation.keys(): #keys del diccionario de transformaciones optimas por variable.\n",
        "    variables = list(optimal_transformation.keys()) #Se convierte en una lista las keys\n",
        "    variables.remove(keys) #Se remueve las variable actual\n",
        "    temporary_transformation = {}\n",
        "    for vars in variables: #Variables de interes\n",
        "      temporary_transformation[vars] = optimal_transformation[vars][keys] # se guarda la transformacion de la variable igual a la key en la variable de interes actual.\n",
        "    transformations_by_variable[keys] = temporary_transformation #Se guardan todas las transformaciones de las variables relacionadas de la variable de interes.\n",
        "  return transformations_by_variable\n",
        "#--------------------------------------------------------------------------------------\n",
        "\n",
        "#Funcion que realiza las transformaciones de las entradas del modelo basados en su transformacion mas optima para la variable de interes\n",
        "def make_transformations(data, condicion):\n",
        "  output = data[condicion] #De un dataset de datos se extrae la variable de interes \"variable de salida o variable a imputar\".\n",
        "  inputs = data.drop(condicion, axis = 1) #Variable relacionadas a la variable de interes o \"variables de entrada\".\n",
        "  Correlations, Restrictions = correlation_pearson(data)#Se generan las correlaciones y sus posibles restricciones por transformacion.\n",
        "  optimal_transformation = transformation_optima(Correlations, Restrictions, 0.55) #Se escogen las transformaciones optima con un umbral de 0.55.\n",
        "  Transformations = transformation_by_variable(optimal_transformation)#Se ordenan las transformaciones dada la variable de interes es decir \"output\".\n",
        "  dict_transformation = dict(zip([\"None\", \"log\", \"exp\", \"square\", \"sqrt\"], [None, np.log, np.exp, np.square, np.sqrt])) #Diccionario de transformaciones\n",
        "  retorno = {} #variable de retorno de las entradas transformadas.\n",
        "  for name_var in inputs.columns: #Se recorren las variables de entrada\n",
        "    var = inputs[name_var]\n",
        "    associated_transformation = dict_transformation[Transformations[condicion][name_var]] #Se asocia la variable de entrada a una transformacion optima por variable.\n",
        "    var_transformada = var if associated_transformation is None else var.apply(associated_transformation) # Se realiza la transformacion.\n",
        "    retorno[name_var] = var_transformada #Se retorna la variable transformada\n",
        "  inputs = pd.DataFrame(retorno)\n",
        "  return output, inputs\n",
        "#--------------------------------------------------------------------------------------\n",
        "\n",
        "#Funcion constructora del modelo\n",
        "def build_linear_model_bayesian(X,y,data,entradas,priori_x_grids,priori_y_grids):\n",
        "    with pm.Model() as modelo: #Se declara un elemento modelo de Pymc\n",
        "        x_shared = pm.Data(\"x_shared\", X, mutable = True)\n",
        "        #Condicion para las variables que no cuentan con un Priori construido por medio de un KDE, se les genera una distribucion uniforme basada en el reango de valores en el que puede variar la variable\n",
        "        if data == 'DeltaL':\n",
        "          alpha = pm.Uniform(data, lower = -0.5, upper = 0.5) #Distribucion uniforme entre 0 y 1\n",
        "        elif data == 'DeltaH':\n",
        "          alpha = pm.Uniform(data, lower = -0.5, upper = 0.5) #Distribucion uniforme entre 0 y 1\n",
        "        elif data == 'Grain_size':\n",
        "          alpha = pm.Uniform(data, lower = -1.75, upper=  1.75) #Distribucion uniforme entre 0.01 y 3.5\n",
        "        else:\n",
        "          grid_x, grid_y = normalizacion_pdf(priori_x_grids[datos],priori_y_grids[datos])\n",
        "          alpha = pm.Interpolated(data, np.asarray(grid_x), np.asarray(grid_y)) # \"alpha\" PDF asociada a la variables de salida \"PDF\"\n",
        "        betas = [] #lista que contendra las PDF asociadas a las entradas.\n",
        "        for entrada in entradas:\n",
        "         betas.append(pdf_normal(entrada, 0, 10)) #PDF asociada a las variables de entrada del modelo\n",
        "        sigma = pm.HalfNormal('sigma',sigma = 1)# Varianza del error\n",
        "        y_est = pm.Deterministic('y_est', alpha + pm.math.dot(x_shared,betas)) #Modelo lineal\n",
        "        likelihood = pm.Normal('y_obs',mu = y_est, sigma=sigma, observed = y) #Probabilidad asociada al modelo lineal\n",
        "        # Regularización L2\n",
        "        reg = pm.math.sum(pm.math.sqr(betas)) + pm.math.sqr(alpha)\n",
        "        ridge = pm.Potential('ridge', -0.5*reg)\n",
        "    return modelo\n",
        "#-----------------------------------------------------------------------------------"
      ],
      "metadata": {
        "id": "k4eUIxoVwCvu"
      },
      "execution_count": 5,
      "outputs": []
    },
    {
      "cell_type": "markdown",
      "source": [
        "## Resultados de correlacion y transformaciones.\n",
        "En este apartado se ejemplifica el criterio tomado para realizar las transformaciones de las entradas del modelo basado en la correlacion de pearson, con intencion de no extender la explicacion se hara exclusivamente para \"PCE\"."
      ],
      "metadata": {
        "id": "4Vos7V6MAlrO"
      }
    },
    {
      "cell_type": "code",
      "source": [
        "correlations, restrictions = correlation_pearson(data) # Correlaciones y restricciones generadas por indeterminaciones.\n",
        "optimal_transformation = transformation_optima(correlations,restrictions,umbral = 0.55) # Transformacion optima\n",
        "transformations_by_variable = transformation_by_variable(optimal_transformation) # Transformaciones optimas para las entradas de cada variable de interes\n",
        "name_transformations = [\"None\", \"log\", \"exp\", \"square\", \"sqrt\"] # Transformaciones\n",
        "var_interes = \"FF\" #Variable de interes\n",
        "correlaciones = {}\n",
        "print(f\"-----------------------------------{var_interes}--------------------------------------\")\n",
        "for datos in data.drop(var_interes, axis=1):\n",
        "  correlacion = []\n",
        "  for names in name_transformations:\n",
        "    if restrictions[datos][names]: # Condicion de restriccion por indeterminacion\n",
        "      correlacion_temporal = np.nan\n",
        "    else:\n",
        "      correlacion_temporal = correlations[datos][names][var_interes]\n",
        "    correlacion.append(correlacion_temporal)\n",
        "  correlaciones[datos] = correlacion\n",
        "df_correlaciones = pd.DataFrame(correlaciones, index = name_transformations)\n",
        "print(df_correlaciones)\n",
        "print(\"----------Transformaciones optimas para cada variable-----------\")\n",
        "print(transformations_by_variable[\"PCE\"])"
      ],
      "metadata": {
        "colab": {
          "base_uri": "https://localhost:8080/"
        },
        "id": "WYqPL9XLAksw",
        "outputId": "caa8a7a5-1ee3-48fa-8ca1-7c42085a18c2"
      },
      "execution_count": 6,
      "outputs": [
        {
          "output_type": "stream",
          "name": "stdout",
          "text": [
            "-----------------------------------FF--------------------------------------\n",
            "               A         B         X  Band_gap    DeltaH    DeltaL  \\\n",
            "None    0.010242 -0.048297  0.030050 -0.039296 -0.089970  0.166043   \n",
            "log          NaN       NaN       NaN -0.043113 -0.194781  0.102890   \n",
            "exp     0.012391 -0.048297  0.037926 -0.028678 -0.099887  0.154198   \n",
            "square  0.003087 -0.048297  0.067611 -0.034323 -0.115098  0.115004   \n",
            "sqrt         NaN -0.048297       NaN -0.041352 -0.017683  0.237509   \n",
            "\n",
            "        Grain_size  Thickness       PCE       Voc       Jsc  \n",
            "None      0.288337   0.367698  0.543788  0.121598  0.256438  \n",
            "log       0.280713   0.303488  0.488240  0.110537  0.227533  \n",
            "exp       0.265032   0.357654  0.414718  0.129298  0.058548  \n",
            "square    0.267202   0.341567  0.575151  0.129972  0.268986  \n",
            "sqrt      0.291124   0.354600  0.518853  0.116381  0.243638  \n",
            "----------Transformaciones optimas para cada variable-----------\n",
            "{'A': 'None', 'B': 'None', 'X': 'None', 'Band_gap': 'None', 'DeltaH': 'None', 'DeltaL': 'None', 'Grain_size': 'None', 'Thickness': 'log', 'Voc': 'None', 'Jsc': 'sqrt', 'FF': 'None'}\n"
          ]
        }
      ]
    },
    {
      "cell_type": "markdown",
      "source": [
        "## CONSTRUCCION DEL MODELO\n",
        "La etapa de construccion del modelo consta de varios pasos:\n",
        "- Transformaciones de variables:\n",
        "\n",
        "  Como se explico anteriormente el proceso que sigue este, es la extraccion de correlaciones para realizar transformaciones optimas de las variables del modelo en relacion a la variable a imputar.\n",
        "- Segmentacion de los datos:\n",
        "\n",
        "  Este proceso consiste en separar los conjuntos de datos de entrenamiento y testeo, esto se hace por medio de la funcion Kfold, que permite realizar un validacion cruzada, obteniendo de esta 5 disitintos modelos, es decir un 5-fold, esto da como resultado una proporcion 80% a 20% entre los datos de entrenamiento y testeo.\n",
        "- Normalizacion de los datos:\n",
        "\n",
        "  Se genera una normalizacion de los datos de entrenamiento, con la intencion del que modelo converja a una solucion mas optima en un menor tiempo.\n",
        "- Construccion del modelo:\n",
        "\n",
        "  Esto se realiza por medio de la funcion anteriormente construida \"Restrictionsbuild_linear_model_bayesian\". Que permite la construccion de un modelo basado en la variable de interes tomando como parametros, dicha variable de interes, sus variables de entrada transformadas asociadas, y el prior de dicha variable de interes.\n",
        "\n",
        "Finalmente se hace un guardado de los modelos y los datos asociados a este para su posterior entrenamiento."
      ],
      "metadata": {
        "id": "m9-OzVNdwWHo"
      }
    },
    {
      "cell_type": "code",
      "source": [
        "#---------Definicion de los parametros de segmentacion--------------\n",
        "k=5 # 5-fold\n",
        "kf = KFold(n_splits = k)\n",
        "#-------------------------------------------------------------------\n",
        "#variables de guardar los modelos definidos\n",
        "modelos = {} #save del modelo\n",
        "data_train = {} #save de datos de entrenamiento\n",
        "data_test = {} #save de datos de testeo\n",
        "for datos in data[data.columns[3:]]: # For que permite abarcar todas las variables de interes a imputar\n",
        "#---------------------------------Transformaciones---------------------------------------------------\n",
        "  output, inputs = make_transformations(data, datos) # tranformacion por variable\n",
        "#----------------------------------------------------------------------------------------------------\n",
        "  #save temporales\n",
        "  modelos_fold = {}\n",
        "  data_train_fold = {}\n",
        "  data_test_fold = {}\n",
        "  trazados_fold = {}\n",
        "  j=1\n",
        "  print(datos)\n",
        "#--------------------------------Segmentacion de datos----------------------------------------------\n",
        "  for train_index, test_index in kf.split(inputs): # se genera el fold\n",
        "    print('Fold #',j,'para el parametro', datos)\n",
        "    x_train, x_test = np.asarray(inputs)[train_index], np.asarray(inputs)[test_index] #particiones para x (entradas)\n",
        "    y_train, y_test = np.asarray(output)[train_index], np.asarray(output)[test_index] #particiones para y (salida)\n",
        "    print(x_train.shape)\n",
        "#---------------------------------------------------------------------------------------------------\n",
        "#-------------------------------------Normalizacion-------------------------------------------------\n",
        "    #Normalizacion\n",
        "    x_mean = np.mean(x_train, axis = 0)\n",
        "    x_std = np.std(x_train, axis = 0)\n",
        "    y_mean = np.mean(y_train)\n",
        "    y_std = np.std(y_train)\n",
        "    X_train = (x_train-x_mean)/(x_std)\n",
        "    Y_train = (y_train-y_mean)/(y_std)\n",
        "    X_train[:,1] = x_train[:,1]\n",
        "    X_test = (x_test-x_mean)/(x_std)\n",
        "    X_test[:,1] = x_test[:,1]\n",
        "    Y_test = (y_test-y_mean)/(y_std)\n",
        "#---------------------------------------------------------------------------------------------------\n",
        "#--------------------------------Construccion del modelo--------------------------------------------\n",
        "    model = build_linear_model_bayesian(X_train,Y_train,datos,inputs,priori_x_grids,priori_y_grids) # Deficion del modelo por variable y por fold\n",
        "#---------------------------------------------------------------------------------------------------\n",
        "#------------------------Save del modelo, datos de testeo y entrenamiento---------------------------\n",
        "    modelos_fold[f'modelo_fold_{j}'] = model\n",
        "    data_train_fold[f'train_fold_{j}'] = {'x_train':X_train, 'y_train':Y_train, 'y_mean':y_mean, 'y_std':y_std, 'x_mean':x_mean, 'x_std':x_std}\n",
        "    data_test_fold[f'test_fold_{j}'] = {'x_test':X_test, 'y_test':y_test}\n",
        "    j = j+1\n",
        "  modelos[f'modelo_{datos}'] = modelos_fold\n",
        "  data_train[f'data_train_{datos}'] = data_train_fold\n",
        "  data_test[f'data_test_{datos}'] = data_test_fold\n",
        "#---------------------------------------------------------------------------------------------------"
      ],
      "metadata": {
        "id": "3GmBuU-twfs4",
        "colab": {
          "base_uri": "https://localhost:8080/"
        },
        "outputId": "2cd56d75-5eab-4df4-cc98-e0df3c4dc1b2"
      },
      "execution_count": null,
      "outputs": [
        {
          "output_type": "stream",
          "name": "stdout",
          "text": [
            "Band_gap\n",
            "Fold # 1 para el parametro Band_gap\n",
            "(50, 11)\n",
            "Fold # 2 para el parametro Band_gap\n",
            "(50, 11)\n",
            "Fold # 3 para el parametro Band_gap\n",
            "(50, 11)\n",
            "Fold # 4 para el parametro Band_gap\n",
            "(51, 11)\n",
            "Fold # 5 para el parametro Band_gap\n",
            "(51, 11)\n"
          ]
        },
        {
          "output_type": "stream",
          "name": "stderr",
          "text": [
            "<ipython-input-21-0ed8acf1d31c>:26: RuntimeWarning: invalid value encountered in divide\n",
            "  X_train = (x_train-x_mean)/(x_std)\n",
            "<ipython-input-21-0ed8acf1d31c>:29: RuntimeWarning: divide by zero encountered in divide\n",
            "  X_test = (x_test-x_mean)/(x_std)\n",
            "<ipython-input-21-0ed8acf1d31c>:29: RuntimeWarning: invalid value encountered in divide\n",
            "  X_test = (x_test-x_mean)/(x_std)\n"
          ]
        },
        {
          "output_type": "stream",
          "name": "stdout",
          "text": [
            "DeltaH\n",
            "Fold # 1 para el parametro DeltaH\n",
            "(50, 11)\n",
            "Fold # 2 para el parametro DeltaH\n",
            "(50, 11)\n",
            "Fold # 3 para el parametro DeltaH\n",
            "(50, 11)\n",
            "Fold # 4 para el parametro DeltaH\n",
            "(51, 11)\n",
            "Fold # 5 para el parametro DeltaH\n",
            "(51, 11)\n"
          ]
        },
        {
          "output_type": "stream",
          "name": "stderr",
          "text": [
            "<ipython-input-21-0ed8acf1d31c>:26: RuntimeWarning: invalid value encountered in divide\n",
            "  X_train = (x_train-x_mean)/(x_std)\n",
            "<ipython-input-21-0ed8acf1d31c>:29: RuntimeWarning: divide by zero encountered in divide\n",
            "  X_test = (x_test-x_mean)/(x_std)\n",
            "<ipython-input-21-0ed8acf1d31c>:29: RuntimeWarning: invalid value encountered in divide\n",
            "  X_test = (x_test-x_mean)/(x_std)\n"
          ]
        },
        {
          "output_type": "stream",
          "name": "stdout",
          "text": [
            "DeltaL\n",
            "Fold # 1 para el parametro DeltaL\n",
            "(50, 11)\n",
            "Fold # 2 para el parametro DeltaL\n",
            "(50, 11)\n",
            "Fold # 3 para el parametro DeltaL\n",
            "(50, 11)\n",
            "Fold # 4 para el parametro DeltaL\n",
            "(51, 11)\n",
            "Fold # 5 para el parametro DeltaL\n",
            "(51, 11)\n"
          ]
        },
        {
          "output_type": "stream",
          "name": "stderr",
          "text": [
            "<ipython-input-21-0ed8acf1d31c>:26: RuntimeWarning: invalid value encountered in divide\n",
            "  X_train = (x_train-x_mean)/(x_std)\n",
            "<ipython-input-21-0ed8acf1d31c>:29: RuntimeWarning: divide by zero encountered in divide\n",
            "  X_test = (x_test-x_mean)/(x_std)\n",
            "<ipython-input-21-0ed8acf1d31c>:29: RuntimeWarning: invalid value encountered in divide\n",
            "  X_test = (x_test-x_mean)/(x_std)\n"
          ]
        },
        {
          "output_type": "stream",
          "name": "stdout",
          "text": [
            "Grain_size\n",
            "Fold # 1 para el parametro Grain_size\n",
            "(50, 11)\n",
            "Fold # 2 para el parametro Grain_size\n",
            "(50, 11)\n",
            "Fold # 3 para el parametro Grain_size\n",
            "(50, 11)\n",
            "Fold # 4 para el parametro Grain_size\n",
            "(51, 11)\n",
            "Fold # 5 para el parametro Grain_size\n",
            "(51, 11)\n",
            "Thickness\n",
            "Fold # 1 para el parametro Thickness\n",
            "(50, 11)\n"
          ]
        },
        {
          "output_type": "stream",
          "name": "stderr",
          "text": [
            "<ipython-input-21-0ed8acf1d31c>:26: RuntimeWarning: invalid value encountered in divide\n",
            "  X_train = (x_train-x_mean)/(x_std)\n",
            "<ipython-input-21-0ed8acf1d31c>:29: RuntimeWarning: divide by zero encountered in divide\n",
            "  X_test = (x_test-x_mean)/(x_std)\n",
            "<ipython-input-21-0ed8acf1d31c>:29: RuntimeWarning: invalid value encountered in divide\n",
            "  X_test = (x_test-x_mean)/(x_std)\n"
          ]
        },
        {
          "output_type": "stream",
          "name": "stdout",
          "text": [
            "Fold # 2 para el parametro Thickness\n",
            "(50, 11)\n",
            "Fold # 3 para el parametro Thickness\n",
            "(50, 11)\n",
            "Fold # 4 para el parametro Thickness\n",
            "(51, 11)\n",
            "Fold # 5 para el parametro Thickness\n",
            "(51, 11)\n"
          ]
        },
        {
          "output_type": "stream",
          "name": "stderr",
          "text": [
            "<ipython-input-21-0ed8acf1d31c>:26: RuntimeWarning: invalid value encountered in divide\n",
            "  X_train = (x_train-x_mean)/(x_std)\n",
            "<ipython-input-21-0ed8acf1d31c>:29: RuntimeWarning: divide by zero encountered in divide\n",
            "  X_test = (x_test-x_mean)/(x_std)\n",
            "<ipython-input-21-0ed8acf1d31c>:29: RuntimeWarning: invalid value encountered in divide\n",
            "  X_test = (x_test-x_mean)/(x_std)\n"
          ]
        },
        {
          "output_type": "stream",
          "name": "stdout",
          "text": [
            "PCE\n",
            "Fold # 1 para el parametro PCE\n",
            "(50, 11)\n",
            "Fold # 2 para el parametro PCE\n",
            "(50, 11)\n",
            "Fold # 3 para el parametro PCE\n",
            "(50, 11)\n",
            "Fold # 4 para el parametro PCE\n",
            "(51, 11)\n",
            "Fold # 5 para el parametro PCE\n",
            "(51, 11)\n"
          ]
        },
        {
          "output_type": "stream",
          "name": "stderr",
          "text": [
            "<ipython-input-21-0ed8acf1d31c>:26: RuntimeWarning: invalid value encountered in divide\n",
            "  X_train = (x_train-x_mean)/(x_std)\n",
            "<ipython-input-21-0ed8acf1d31c>:29: RuntimeWarning: divide by zero encountered in divide\n",
            "  X_test = (x_test-x_mean)/(x_std)\n",
            "<ipython-input-21-0ed8acf1d31c>:29: RuntimeWarning: invalid value encountered in divide\n",
            "  X_test = (x_test-x_mean)/(x_std)\n"
          ]
        },
        {
          "output_type": "stream",
          "name": "stdout",
          "text": [
            "Voc\n",
            "Fold # 1 para el parametro Voc\n",
            "(50, 11)\n",
            "Fold # 2 para el parametro Voc\n",
            "(50, 11)\n",
            "Fold # 3 para el parametro Voc\n",
            "(50, 11)\n",
            "Fold # 4 para el parametro Voc\n",
            "(51, 11)\n",
            "Fold # 5 para el parametro Voc\n",
            "(51, 11)\n"
          ]
        },
        {
          "output_type": "stream",
          "name": "stderr",
          "text": [
            "<ipython-input-21-0ed8acf1d31c>:26: RuntimeWarning: invalid value encountered in divide\n",
            "  X_train = (x_train-x_mean)/(x_std)\n",
            "<ipython-input-21-0ed8acf1d31c>:29: RuntimeWarning: divide by zero encountered in divide\n",
            "  X_test = (x_test-x_mean)/(x_std)\n",
            "<ipython-input-21-0ed8acf1d31c>:29: RuntimeWarning: invalid value encountered in divide\n",
            "  X_test = (x_test-x_mean)/(x_std)\n"
          ]
        },
        {
          "output_type": "stream",
          "name": "stdout",
          "text": [
            "Jsc\n",
            "Fold # 1 para el parametro Jsc\n",
            "(50, 11)\n",
            "Fold # 2 para el parametro Jsc\n",
            "(50, 11)\n",
            "Fold # 3 para el parametro Jsc\n",
            "(50, 11)\n",
            "Fold # 4 para el parametro Jsc\n",
            "(51, 11)\n",
            "Fold # 5 para el parametro Jsc\n",
            "(51, 11)\n"
          ]
        },
        {
          "output_type": "stream",
          "name": "stderr",
          "text": [
            "<ipython-input-21-0ed8acf1d31c>:26: RuntimeWarning: invalid value encountered in divide\n",
            "  X_train = (x_train-x_mean)/(x_std)\n",
            "<ipython-input-21-0ed8acf1d31c>:29: RuntimeWarning: divide by zero encountered in divide\n",
            "  X_test = (x_test-x_mean)/(x_std)\n",
            "<ipython-input-21-0ed8acf1d31c>:29: RuntimeWarning: invalid value encountered in divide\n",
            "  X_test = (x_test-x_mean)/(x_std)\n"
          ]
        },
        {
          "output_type": "stream",
          "name": "stdout",
          "text": [
            "FF\n",
            "Fold # 1 para el parametro FF\n",
            "(50, 11)\n",
            "Fold # 2 para el parametro FF\n",
            "(50, 11)\n",
            "Fold # 3 para el parametro FF\n",
            "(50, 11)\n",
            "Fold # 4 para el parametro FF\n",
            "(51, 11)\n",
            "Fold # 5 para el parametro FF\n",
            "(51, 11)\n"
          ]
        },
        {
          "output_type": "stream",
          "name": "stderr",
          "text": [
            "<ipython-input-21-0ed8acf1d31c>:26: RuntimeWarning: invalid value encountered in divide\n",
            "  X_train = (x_train-x_mean)/(x_std)\n",
            "<ipython-input-21-0ed8acf1d31c>:29: RuntimeWarning: divide by zero encountered in divide\n",
            "  X_test = (x_test-x_mean)/(x_std)\n",
            "<ipython-input-21-0ed8acf1d31c>:29: RuntimeWarning: invalid value encountered in divide\n",
            "  X_test = (x_test-x_mean)/(x_std)\n"
          ]
        }
      ]
    },
    {
      "cell_type": "markdown",
      "source": [
        "### INFERENCIA (ENTRENAMIENTO)\n",
        "La etapa de entrenamiento, mas especificamente de inferencia bayesiana es realizada a travez de la funcion sample de la libreria Pymc.\n",
        "Esta funcion permite generar un trazado de las distribuciones posteriores de los parametros del modelo, por medio de MCMC. Esta funcion recibe como parametetros:\n",
        "- draws: Que indica el numero muestras extraidas o \"dibujos\" tomados de la distribucion.\n",
        "- tune: Es el numero de muestras que toma la funcion antes de iniciar la inferencia para un mejor ajuste y convergencia.\n",
        "- chains: Es el numero de cadenas que va inferir la funcion.\n",
        "\n",
        "Por ultimo se guarda las distribuciones de los parametros inferidos."
      ],
      "metadata": {
        "id": "W0yfQUxvwgOz"
      }
    },
    {
      "cell_type": "code",
      "source": [
        "#-------------------------------Definicion de parametros de sampleo---------------------------\n",
        "draws = 1000 # se generan 1000 draws por modelo\n",
        "tune = 500 # se generan 500 muestras de tuneado\n",
        "chains = 5 # se generan 5 cadenas\n",
        "#--------------------------------------------------------------------------------------------\n",
        "trazados_data = {} #save del trazado\n",
        "for datos in data[data.columns[3:]]: # se genera la inferencia para cada variable\n",
        "  print(datos)\n",
        "  trazados_fold = {}\n",
        "  for i in range(1,6): # se abarcan cada modelo construido para cada fold para cada variable\n",
        "#----------------------Etapa de entrenamieno o Inferencia------------------------------------\n",
        "    with modelos[f'modelo_{datos}'][f'modelo_fold_{i}']:\n",
        "      trace = pm.sample(draws = draws, tune = tune, chains = chains, cores = 4) # se genera la inferencia por medio de pm.sample\n",
        "#--------------------------------------------------------------------------------------------\n",
        "#-------------------------Save de los modelos inferidos--------------------------------------\n",
        "    trazados_fold[f'trace_fold{i}'] = trace #save de trazados por fold\n",
        "  trazados_data[f'trace_{datos}'] = trazados_fold # save de trazados por variables\n",
        "#--------------------------------------------------------------------------------------------"
      ],
      "metadata": {
        "id": "x85xlQZ3wo96",
        "colab": {
          "base_uri": "https://localhost:8080/",
          "height": 1000
        },
        "outputId": "c00a5f60-8739-4397-da35-a63894c7927b"
      },
      "execution_count": null,
      "outputs": [
        {
          "output_type": "stream",
          "name": "stdout",
          "text": [
            "Band_gap\n"
          ]
        },
        {
          "output_type": "display_data",
          "data": {
            "text/plain": [
              "<IPython.core.display.HTML object>"
            ],
            "text/html": [
              "\n",
              "<style>\n",
              "    /* Turns off some styling */\n",
              "    progress {\n",
              "        /* gets rid of default border in Firefox and Opera. */\n",
              "        border: none;\n",
              "        /* Needs to be in here for Safari polyfill so background images work as expected. */\n",
              "        background-size: auto;\n",
              "    }\n",
              "    progress:not([value]), progress:not([value])::-webkit-progress-bar {\n",
              "        background: repeating-linear-gradient(45deg, #7e7e7e, #7e7e7e 10px, #5c5c5c 10px, #5c5c5c 20px);\n",
              "    }\n",
              "    .progress-bar-interrupted, .progress-bar-interrupted::-webkit-progress-bar {\n",
              "        background: #F44336;\n",
              "    }\n",
              "</style>\n"
            ]
          },
          "metadata": {}
        },
        {
          "output_type": "display_data",
          "data": {
            "text/plain": [
              "<IPython.core.display.HTML object>"
            ],
            "text/html": [
              "\n",
              "    <div>\n",
              "      <progress value='7500' class='' max='7500' style='width:300px; height:20px; vertical-align: middle;'></progress>\n",
              "      100.00% [7500/7500 01:55&lt;00:00 Sampling 5 chains, 0 divergences]\n",
              "    </div>\n",
              "    "
            ]
          },
          "metadata": {}
        },
        {
          "output_type": "display_data",
          "data": {
            "text/plain": [
              "<IPython.core.display.HTML object>"
            ],
            "text/html": [
              "\n",
              "<style>\n",
              "    /* Turns off some styling */\n",
              "    progress {\n",
              "        /* gets rid of default border in Firefox and Opera. */\n",
              "        border: none;\n",
              "        /* Needs to be in here for Safari polyfill so background images work as expected. */\n",
              "        background-size: auto;\n",
              "    }\n",
              "    progress:not([value]), progress:not([value])::-webkit-progress-bar {\n",
              "        background: repeating-linear-gradient(45deg, #7e7e7e, #7e7e7e 10px, #5c5c5c 10px, #5c5c5c 20px);\n",
              "    }\n",
              "    .progress-bar-interrupted, .progress-bar-interrupted::-webkit-progress-bar {\n",
              "        background: #F44336;\n",
              "    }\n",
              "</style>\n"
            ]
          },
          "metadata": {}
        },
        {
          "output_type": "display_data",
          "data": {
            "text/plain": [
              "<IPython.core.display.HTML object>"
            ],
            "text/html": [
              "\n",
              "    <div>\n",
              "      <progress value='7500' class='' max='7500' style='width:300px; height:20px; vertical-align: middle;'></progress>\n",
              "      100.00% [7500/7500 01:39&lt;00:00 Sampling 5 chains, 0 divergences]\n",
              "    </div>\n",
              "    "
            ]
          },
          "metadata": {}
        },
        {
          "output_type": "display_data",
          "data": {
            "text/plain": [
              "<IPython.core.display.HTML object>"
            ],
            "text/html": [
              "\n",
              "<style>\n",
              "    /* Turns off some styling */\n",
              "    progress {\n",
              "        /* gets rid of default border in Firefox and Opera. */\n",
              "        border: none;\n",
              "        /* Needs to be in here for Safari polyfill so background images work as expected. */\n",
              "        background-size: auto;\n",
              "    }\n",
              "    progress:not([value]), progress:not([value])::-webkit-progress-bar {\n",
              "        background: repeating-linear-gradient(45deg, #7e7e7e, #7e7e7e 10px, #5c5c5c 10px, #5c5c5c 20px);\n",
              "    }\n",
              "    .progress-bar-interrupted, .progress-bar-interrupted::-webkit-progress-bar {\n",
              "        background: #F44336;\n",
              "    }\n",
              "</style>\n"
            ]
          },
          "metadata": {}
        },
        {
          "output_type": "display_data",
          "data": {
            "text/plain": [
              "<IPython.core.display.HTML object>"
            ],
            "text/html": [
              "\n",
              "    <div>\n",
              "      <progress value='7500' class='' max='7500' style='width:300px; height:20px; vertical-align: middle;'></progress>\n",
              "      100.00% [7500/7500 01:41&lt;00:00 Sampling 5 chains, 0 divergences]\n",
              "    </div>\n",
              "    "
            ]
          },
          "metadata": {}
        },
        {
          "output_type": "display_data",
          "data": {
            "text/plain": [
              "<IPython.core.display.HTML object>"
            ],
            "text/html": [
              "\n",
              "<style>\n",
              "    /* Turns off some styling */\n",
              "    progress {\n",
              "        /* gets rid of default border in Firefox and Opera. */\n",
              "        border: none;\n",
              "        /* Needs to be in here for Safari polyfill so background images work as expected. */\n",
              "        background-size: auto;\n",
              "    }\n",
              "    progress:not([value]), progress:not([value])::-webkit-progress-bar {\n",
              "        background: repeating-linear-gradient(45deg, #7e7e7e, #7e7e7e 10px, #5c5c5c 10px, #5c5c5c 20px);\n",
              "    }\n",
              "    .progress-bar-interrupted, .progress-bar-interrupted::-webkit-progress-bar {\n",
              "        background: #F44336;\n",
              "    }\n",
              "</style>\n"
            ]
          },
          "metadata": {}
        },
        {
          "output_type": "display_data",
          "data": {
            "text/plain": [
              "<IPython.core.display.HTML object>"
            ],
            "text/html": [
              "\n",
              "    <div>\n",
              "      <progress value='7500' class='' max='7500' style='width:300px; height:20px; vertical-align: middle;'></progress>\n",
              "      100.00% [7500/7500 01:50&lt;00:00 Sampling 5 chains, 0 divergences]\n",
              "    </div>\n",
              "    "
            ]
          },
          "metadata": {}
        },
        {
          "output_type": "stream",
          "name": "stderr",
          "text": [
            "ERROR:pymc.stats.convergence:The effective sample size per chain is smaller than 100 for some parameters.  A higher number is needed for reliable rhat and ess computation. See https://arxiv.org/abs/1903.08008 for details\n"
          ]
        },
        {
          "output_type": "display_data",
          "data": {
            "text/plain": [
              "<IPython.core.display.HTML object>"
            ],
            "text/html": [
              "\n",
              "<style>\n",
              "    /* Turns off some styling */\n",
              "    progress {\n",
              "        /* gets rid of default border in Firefox and Opera. */\n",
              "        border: none;\n",
              "        /* Needs to be in here for Safari polyfill so background images work as expected. */\n",
              "        background-size: auto;\n",
              "    }\n",
              "    progress:not([value]), progress:not([value])::-webkit-progress-bar {\n",
              "        background: repeating-linear-gradient(45deg, #7e7e7e, #7e7e7e 10px, #5c5c5c 10px, #5c5c5c 20px);\n",
              "    }\n",
              "    .progress-bar-interrupted, .progress-bar-interrupted::-webkit-progress-bar {\n",
              "        background: #F44336;\n",
              "    }\n",
              "</style>\n"
            ]
          },
          "metadata": {}
        },
        {
          "output_type": "display_data",
          "data": {
            "text/plain": [
              "<IPython.core.display.HTML object>"
            ],
            "text/html": [
              "\n",
              "    <div>\n",
              "      <progress value='7500' class='' max='7500' style='width:300px; height:20px; vertical-align: middle;'></progress>\n",
              "      100.00% [7500/7500 03:02&lt;00:00 Sampling 5 chains, 1 divergences]\n",
              "    </div>\n",
              "    "
            ]
          },
          "metadata": {}
        },
        {
          "output_type": "stream",
          "name": "stderr",
          "text": [
            "ERROR:pymc.stats.convergence:There were 1 divergences after tuning. Increase `target_accept` or reparameterize.\n"
          ]
        },
        {
          "output_type": "stream",
          "name": "stdout",
          "text": [
            "DeltaH\n"
          ]
        },
        {
          "output_type": "display_data",
          "data": {
            "text/plain": [
              "<IPython.core.display.HTML object>"
            ],
            "text/html": [
              "\n",
              "<style>\n",
              "    /* Turns off some styling */\n",
              "    progress {\n",
              "        /* gets rid of default border in Firefox and Opera. */\n",
              "        border: none;\n",
              "        /* Needs to be in here for Safari polyfill so background images work as expected. */\n",
              "        background-size: auto;\n",
              "    }\n",
              "    progress:not([value]), progress:not([value])::-webkit-progress-bar {\n",
              "        background: repeating-linear-gradient(45deg, #7e7e7e, #7e7e7e 10px, #5c5c5c 10px, #5c5c5c 20px);\n",
              "    }\n",
              "    .progress-bar-interrupted, .progress-bar-interrupted::-webkit-progress-bar {\n",
              "        background: #F44336;\n",
              "    }\n",
              "</style>\n"
            ]
          },
          "metadata": {}
        },
        {
          "output_type": "display_data",
          "data": {
            "text/plain": [
              "<IPython.core.display.HTML object>"
            ],
            "text/html": [
              "\n",
              "    <div>\n",
              "      <progress value='7500' class='' max='7500' style='width:300px; height:20px; vertical-align: middle;'></progress>\n",
              "      100.00% [7500/7500 01:37&lt;00:00 Sampling 5 chains, 0 divergences]\n",
              "    </div>\n",
              "    "
            ]
          },
          "metadata": {}
        },
        {
          "output_type": "display_data",
          "data": {
            "text/plain": [
              "<IPython.core.display.HTML object>"
            ],
            "text/html": [
              "\n",
              "<style>\n",
              "    /* Turns off some styling */\n",
              "    progress {\n",
              "        /* gets rid of default border in Firefox and Opera. */\n",
              "        border: none;\n",
              "        /* Needs to be in here for Safari polyfill so background images work as expected. */\n",
              "        background-size: auto;\n",
              "    }\n",
              "    progress:not([value]), progress:not([value])::-webkit-progress-bar {\n",
              "        background: repeating-linear-gradient(45deg, #7e7e7e, #7e7e7e 10px, #5c5c5c 10px, #5c5c5c 20px);\n",
              "    }\n",
              "    .progress-bar-interrupted, .progress-bar-interrupted::-webkit-progress-bar {\n",
              "        background: #F44336;\n",
              "    }\n",
              "</style>\n"
            ]
          },
          "metadata": {}
        },
        {
          "output_type": "display_data",
          "data": {
            "text/plain": [
              "<IPython.core.display.HTML object>"
            ],
            "text/html": [
              "\n",
              "    <div>\n",
              "      <progress value='7500' class='' max='7500' style='width:300px; height:20px; vertical-align: middle;'></progress>\n",
              "      100.00% [7500/7500 01:30&lt;00:00 Sampling 5 chains, 0 divergences]\n",
              "    </div>\n",
              "    "
            ]
          },
          "metadata": {}
        },
        {
          "output_type": "display_data",
          "data": {
            "text/plain": [
              "<IPython.core.display.HTML object>"
            ],
            "text/html": [
              "\n",
              "<style>\n",
              "    /* Turns off some styling */\n",
              "    progress {\n",
              "        /* gets rid of default border in Firefox and Opera. */\n",
              "        border: none;\n",
              "        /* Needs to be in here for Safari polyfill so background images work as expected. */\n",
              "        background-size: auto;\n",
              "    }\n",
              "    progress:not([value]), progress:not([value])::-webkit-progress-bar {\n",
              "        background: repeating-linear-gradient(45deg, #7e7e7e, #7e7e7e 10px, #5c5c5c 10px, #5c5c5c 20px);\n",
              "    }\n",
              "    .progress-bar-interrupted, .progress-bar-interrupted::-webkit-progress-bar {\n",
              "        background: #F44336;\n",
              "    }\n",
              "</style>\n"
            ]
          },
          "metadata": {}
        },
        {
          "output_type": "display_data",
          "data": {
            "text/plain": [
              "<IPython.core.display.HTML object>"
            ],
            "text/html": [
              "\n",
              "    <div>\n",
              "      <progress value='7500' class='' max='7500' style='width:300px; height:20px; vertical-align: middle;'></progress>\n",
              "      100.00% [7500/7500 01:31&lt;00:00 Sampling 5 chains, 0 divergences]\n",
              "    </div>\n",
              "    "
            ]
          },
          "metadata": {}
        },
        {
          "output_type": "display_data",
          "data": {
            "text/plain": [
              "<IPython.core.display.HTML object>"
            ],
            "text/html": [
              "\n",
              "<style>\n",
              "    /* Turns off some styling */\n",
              "    progress {\n",
              "        /* gets rid of default border in Firefox and Opera. */\n",
              "        border: none;\n",
              "        /* Needs to be in here for Safari polyfill so background images work as expected. */\n",
              "        background-size: auto;\n",
              "    }\n",
              "    progress:not([value]), progress:not([value])::-webkit-progress-bar {\n",
              "        background: repeating-linear-gradient(45deg, #7e7e7e, #7e7e7e 10px, #5c5c5c 10px, #5c5c5c 20px);\n",
              "    }\n",
              "    .progress-bar-interrupted, .progress-bar-interrupted::-webkit-progress-bar {\n",
              "        background: #F44336;\n",
              "    }\n",
              "</style>\n"
            ]
          },
          "metadata": {}
        },
        {
          "output_type": "display_data",
          "data": {
            "text/plain": [
              "<IPython.core.display.HTML object>"
            ],
            "text/html": [
              "\n",
              "    <div>\n",
              "      <progress value='7500' class='' max='7500' style='width:300px; height:20px; vertical-align: middle;'></progress>\n",
              "      100.00% [7500/7500 01:36&lt;00:00 Sampling 5 chains, 0 divergences]\n",
              "    </div>\n",
              "    "
            ]
          },
          "metadata": {}
        },
        {
          "output_type": "display_data",
          "data": {
            "text/plain": [
              "<IPython.core.display.HTML object>"
            ],
            "text/html": [
              "\n",
              "<style>\n",
              "    /* Turns off some styling */\n",
              "    progress {\n",
              "        /* gets rid of default border in Firefox and Opera. */\n",
              "        border: none;\n",
              "        /* Needs to be in here for Safari polyfill so background images work as expected. */\n",
              "        background-size: auto;\n",
              "    }\n",
              "    progress:not([value]), progress:not([value])::-webkit-progress-bar {\n",
              "        background: repeating-linear-gradient(45deg, #7e7e7e, #7e7e7e 10px, #5c5c5c 10px, #5c5c5c 20px);\n",
              "    }\n",
              "    .progress-bar-interrupted, .progress-bar-interrupted::-webkit-progress-bar {\n",
              "        background: #F44336;\n",
              "    }\n",
              "</style>\n"
            ]
          },
          "metadata": {}
        },
        {
          "output_type": "display_data",
          "data": {
            "text/plain": [
              "<IPython.core.display.HTML object>"
            ],
            "text/html": [
              "\n",
              "    <div>\n",
              "      <progress value='7500' class='' max='7500' style='width:300px; height:20px; vertical-align: middle;'></progress>\n",
              "      100.00% [7500/7500 02:05&lt;00:00 Sampling 5 chains, 0 divergences]\n",
              "    </div>\n",
              "    "
            ]
          },
          "metadata": {}
        },
        {
          "output_type": "stream",
          "name": "stdout",
          "text": [
            "DeltaL\n"
          ]
        },
        {
          "output_type": "display_data",
          "data": {
            "text/plain": [
              "<IPython.core.display.HTML object>"
            ],
            "text/html": [
              "\n",
              "<style>\n",
              "    /* Turns off some styling */\n",
              "    progress {\n",
              "        /* gets rid of default border in Firefox and Opera. */\n",
              "        border: none;\n",
              "        /* Needs to be in here for Safari polyfill so background images work as expected. */\n",
              "        background-size: auto;\n",
              "    }\n",
              "    progress:not([value]), progress:not([value])::-webkit-progress-bar {\n",
              "        background: repeating-linear-gradient(45deg, #7e7e7e, #7e7e7e 10px, #5c5c5c 10px, #5c5c5c 20px);\n",
              "    }\n",
              "    .progress-bar-interrupted, .progress-bar-interrupted::-webkit-progress-bar {\n",
              "        background: #F44336;\n",
              "    }\n",
              "</style>\n"
            ]
          },
          "metadata": {}
        },
        {
          "output_type": "display_data",
          "data": {
            "text/plain": [
              "<IPython.core.display.HTML object>"
            ],
            "text/html": [
              "\n",
              "    <div>\n",
              "      <progress value='7500' class='' max='7500' style='width:300px; height:20px; vertical-align: middle;'></progress>\n",
              "      100.00% [7500/7500 01:29&lt;00:00 Sampling 5 chains, 0 divergences]\n",
              "    </div>\n",
              "    "
            ]
          },
          "metadata": {}
        },
        {
          "output_type": "display_data",
          "data": {
            "text/plain": [
              "<IPython.core.display.HTML object>"
            ],
            "text/html": [
              "\n",
              "<style>\n",
              "    /* Turns off some styling */\n",
              "    progress {\n",
              "        /* gets rid of default border in Firefox and Opera. */\n",
              "        border: none;\n",
              "        /* Needs to be in here for Safari polyfill so background images work as expected. */\n",
              "        background-size: auto;\n",
              "    }\n",
              "    progress:not([value]), progress:not([value])::-webkit-progress-bar {\n",
              "        background: repeating-linear-gradient(45deg, #7e7e7e, #7e7e7e 10px, #5c5c5c 10px, #5c5c5c 20px);\n",
              "    }\n",
              "    .progress-bar-interrupted, .progress-bar-interrupted::-webkit-progress-bar {\n",
              "        background: #F44336;\n",
              "    }\n",
              "</style>\n"
            ]
          },
          "metadata": {}
        },
        {
          "output_type": "display_data",
          "data": {
            "text/plain": [
              "<IPython.core.display.HTML object>"
            ],
            "text/html": [
              "\n",
              "    <div>\n",
              "      <progress value='7500' class='' max='7500' style='width:300px; height:20px; vertical-align: middle;'></progress>\n",
              "      100.00% [7500/7500 01:26&lt;00:00 Sampling 5 chains, 0 divergences]\n",
              "    </div>\n",
              "    "
            ]
          },
          "metadata": {}
        },
        {
          "output_type": "display_data",
          "data": {
            "text/plain": [
              "<IPython.core.display.HTML object>"
            ],
            "text/html": [
              "\n",
              "<style>\n",
              "    /* Turns off some styling */\n",
              "    progress {\n",
              "        /* gets rid of default border in Firefox and Opera. */\n",
              "        border: none;\n",
              "        /* Needs to be in here for Safari polyfill so background images work as expected. */\n",
              "        background-size: auto;\n",
              "    }\n",
              "    progress:not([value]), progress:not([value])::-webkit-progress-bar {\n",
              "        background: repeating-linear-gradient(45deg, #7e7e7e, #7e7e7e 10px, #5c5c5c 10px, #5c5c5c 20px);\n",
              "    }\n",
              "    .progress-bar-interrupted, .progress-bar-interrupted::-webkit-progress-bar {\n",
              "        background: #F44336;\n",
              "    }\n",
              "</style>\n"
            ]
          },
          "metadata": {}
        },
        {
          "output_type": "display_data",
          "data": {
            "text/plain": [
              "<IPython.core.display.HTML object>"
            ],
            "text/html": [
              "\n",
              "    <div>\n",
              "      <progress value='7500' class='' max='7500' style='width:300px; height:20px; vertical-align: middle;'></progress>\n",
              "      100.00% [7500/7500 01:31&lt;00:00 Sampling 5 chains, 0 divergences]\n",
              "    </div>\n",
              "    "
            ]
          },
          "metadata": {}
        },
        {
          "output_type": "display_data",
          "data": {
            "text/plain": [
              "<IPython.core.display.HTML object>"
            ],
            "text/html": [
              "\n",
              "<style>\n",
              "    /* Turns off some styling */\n",
              "    progress {\n",
              "        /* gets rid of default border in Firefox and Opera. */\n",
              "        border: none;\n",
              "        /* Needs to be in here for Safari polyfill so background images work as expected. */\n",
              "        background-size: auto;\n",
              "    }\n",
              "    progress:not([value]), progress:not([value])::-webkit-progress-bar {\n",
              "        background: repeating-linear-gradient(45deg, #7e7e7e, #7e7e7e 10px, #5c5c5c 10px, #5c5c5c 20px);\n",
              "    }\n",
              "    .progress-bar-interrupted, .progress-bar-interrupted::-webkit-progress-bar {\n",
              "        background: #F44336;\n",
              "    }\n",
              "</style>\n"
            ]
          },
          "metadata": {}
        },
        {
          "output_type": "display_data",
          "data": {
            "text/plain": [
              "<IPython.core.display.HTML object>"
            ],
            "text/html": [
              "\n",
              "    <div>\n",
              "      <progress value='7500' class='' max='7500' style='width:300px; height:20px; vertical-align: middle;'></progress>\n",
              "      100.00% [7500/7500 01:34&lt;00:00 Sampling 5 chains, 0 divergences]\n",
              "    </div>\n",
              "    "
            ]
          },
          "metadata": {}
        },
        {
          "output_type": "display_data",
          "data": {
            "text/plain": [
              "<IPython.core.display.HTML object>"
            ],
            "text/html": [
              "\n",
              "<style>\n",
              "    /* Turns off some styling */\n",
              "    progress {\n",
              "        /* gets rid of default border in Firefox and Opera. */\n",
              "        border: none;\n",
              "        /* Needs to be in here for Safari polyfill so background images work as expected. */\n",
              "        background-size: auto;\n",
              "    }\n",
              "    progress:not([value]), progress:not([value])::-webkit-progress-bar {\n",
              "        background: repeating-linear-gradient(45deg, #7e7e7e, #7e7e7e 10px, #5c5c5c 10px, #5c5c5c 20px);\n",
              "    }\n",
              "    .progress-bar-interrupted, .progress-bar-interrupted::-webkit-progress-bar {\n",
              "        background: #F44336;\n",
              "    }\n",
              "</style>\n"
            ]
          },
          "metadata": {}
        },
        {
          "output_type": "display_data",
          "data": {
            "text/plain": [
              "<IPython.core.display.HTML object>"
            ],
            "text/html": [
              "\n",
              "    <div>\n",
              "      <progress value='7500' class='' max='7500' style='width:300px; height:20px; vertical-align: middle;'></progress>\n",
              "      100.00% [7500/7500 01:51&lt;00:00 Sampling 5 chains, 0 divergences]\n",
              "    </div>\n",
              "    "
            ]
          },
          "metadata": {}
        },
        {
          "output_type": "stream",
          "name": "stdout",
          "text": [
            "Grain_size\n"
          ]
        },
        {
          "output_type": "display_data",
          "data": {
            "text/plain": [
              "<IPython.core.display.HTML object>"
            ],
            "text/html": [
              "\n",
              "<style>\n",
              "    /* Turns off some styling */\n",
              "    progress {\n",
              "        /* gets rid of default border in Firefox and Opera. */\n",
              "        border: none;\n",
              "        /* Needs to be in here for Safari polyfill so background images work as expected. */\n",
              "        background-size: auto;\n",
              "    }\n",
              "    progress:not([value]), progress:not([value])::-webkit-progress-bar {\n",
              "        background: repeating-linear-gradient(45deg, #7e7e7e, #7e7e7e 10px, #5c5c5c 10px, #5c5c5c 20px);\n",
              "    }\n",
              "    .progress-bar-interrupted, .progress-bar-interrupted::-webkit-progress-bar {\n",
              "        background: #F44336;\n",
              "    }\n",
              "</style>\n"
            ]
          },
          "metadata": {}
        },
        {
          "output_type": "display_data",
          "data": {
            "text/plain": [
              "<IPython.core.display.HTML object>"
            ],
            "text/html": [
              "\n",
              "    <div>\n",
              "      <progress value='7500' class='' max='7500' style='width:300px; height:20px; vertical-align: middle;'></progress>\n",
              "      100.00% [7500/7500 01:33&lt;00:00 Sampling 5 chains, 0 divergences]\n",
              "    </div>\n",
              "    "
            ]
          },
          "metadata": {}
        },
        {
          "output_type": "display_data",
          "data": {
            "text/plain": [
              "<IPython.core.display.HTML object>"
            ],
            "text/html": [
              "\n",
              "<style>\n",
              "    /* Turns off some styling */\n",
              "    progress {\n",
              "        /* gets rid of default border in Firefox and Opera. */\n",
              "        border: none;\n",
              "        /* Needs to be in here for Safari polyfill so background images work as expected. */\n",
              "        background-size: auto;\n",
              "    }\n",
              "    progress:not([value]), progress:not([value])::-webkit-progress-bar {\n",
              "        background: repeating-linear-gradient(45deg, #7e7e7e, #7e7e7e 10px, #5c5c5c 10px, #5c5c5c 20px);\n",
              "    }\n",
              "    .progress-bar-interrupted, .progress-bar-interrupted::-webkit-progress-bar {\n",
              "        background: #F44336;\n",
              "    }\n",
              "</style>\n"
            ]
          },
          "metadata": {}
        },
        {
          "output_type": "display_data",
          "data": {
            "text/plain": [
              "<IPython.core.display.HTML object>"
            ],
            "text/html": [
              "\n",
              "    <div>\n",
              "      <progress value='7500' class='' max='7500' style='width:300px; height:20px; vertical-align: middle;'></progress>\n",
              "      100.00% [7500/7500 01:37&lt;00:00 Sampling 5 chains, 0 divergences]\n",
              "    </div>\n",
              "    "
            ]
          },
          "metadata": {}
        },
        {
          "output_type": "display_data",
          "data": {
            "text/plain": [
              "<IPython.core.display.HTML object>"
            ],
            "text/html": [
              "\n",
              "<style>\n",
              "    /* Turns off some styling */\n",
              "    progress {\n",
              "        /* gets rid of default border in Firefox and Opera. */\n",
              "        border: none;\n",
              "        /* Needs to be in here for Safari polyfill so background images work as expected. */\n",
              "        background-size: auto;\n",
              "    }\n",
              "    progress:not([value]), progress:not([value])::-webkit-progress-bar {\n",
              "        background: repeating-linear-gradient(45deg, #7e7e7e, #7e7e7e 10px, #5c5c5c 10px, #5c5c5c 20px);\n",
              "    }\n",
              "    .progress-bar-interrupted, .progress-bar-interrupted::-webkit-progress-bar {\n",
              "        background: #F44336;\n",
              "    }\n",
              "</style>\n"
            ]
          },
          "metadata": {}
        },
        {
          "output_type": "display_data",
          "data": {
            "text/plain": [
              "<IPython.core.display.HTML object>"
            ],
            "text/html": [
              "\n",
              "    <div>\n",
              "      <progress value='7500' class='' max='7500' style='width:300px; height:20px; vertical-align: middle;'></progress>\n",
              "      100.00% [7500/7500 01:45&lt;00:00 Sampling 5 chains, 0 divergences]\n",
              "    </div>\n",
              "    "
            ]
          },
          "metadata": {}
        },
        {
          "output_type": "display_data",
          "data": {
            "text/plain": [
              "<IPython.core.display.HTML object>"
            ],
            "text/html": [
              "\n",
              "<style>\n",
              "    /* Turns off some styling */\n",
              "    progress {\n",
              "        /* gets rid of default border in Firefox and Opera. */\n",
              "        border: none;\n",
              "        /* Needs to be in here for Safari polyfill so background images work as expected. */\n",
              "        background-size: auto;\n",
              "    }\n",
              "    progress:not([value]), progress:not([value])::-webkit-progress-bar {\n",
              "        background: repeating-linear-gradient(45deg, #7e7e7e, #7e7e7e 10px, #5c5c5c 10px, #5c5c5c 20px);\n",
              "    }\n",
              "    .progress-bar-interrupted, .progress-bar-interrupted::-webkit-progress-bar {\n",
              "        background: #F44336;\n",
              "    }\n",
              "</style>\n"
            ]
          },
          "metadata": {}
        },
        {
          "output_type": "display_data",
          "data": {
            "text/plain": [
              "<IPython.core.display.HTML object>"
            ],
            "text/html": [
              "\n",
              "    <div>\n",
              "      <progress value='7500' class='' max='7500' style='width:300px; height:20px; vertical-align: middle;'></progress>\n",
              "      100.00% [7500/7500 01:40&lt;00:00 Sampling 5 chains, 0 divergences]\n",
              "    </div>\n",
              "    "
            ]
          },
          "metadata": {}
        },
        {
          "output_type": "display_data",
          "data": {
            "text/plain": [
              "<IPython.core.display.HTML object>"
            ],
            "text/html": [
              "\n",
              "<style>\n",
              "    /* Turns off some styling */\n",
              "    progress {\n",
              "        /* gets rid of default border in Firefox and Opera. */\n",
              "        border: none;\n",
              "        /* Needs to be in here for Safari polyfill so background images work as expected. */\n",
              "        background-size: auto;\n",
              "    }\n",
              "    progress:not([value]), progress:not([value])::-webkit-progress-bar {\n",
              "        background: repeating-linear-gradient(45deg, #7e7e7e, #7e7e7e 10px, #5c5c5c 10px, #5c5c5c 20px);\n",
              "    }\n",
              "    .progress-bar-interrupted, .progress-bar-interrupted::-webkit-progress-bar {\n",
              "        background: #F44336;\n",
              "    }\n",
              "</style>\n"
            ]
          },
          "metadata": {}
        },
        {
          "output_type": "display_data",
          "data": {
            "text/plain": [
              "<IPython.core.display.HTML object>"
            ],
            "text/html": [
              "\n",
              "    <div>\n",
              "      <progress value='7500' class='' max='7500' style='width:300px; height:20px; vertical-align: middle;'></progress>\n",
              "      100.00% [7500/7500 02:16&lt;00:00 Sampling 5 chains, 0 divergences]\n",
              "    </div>\n",
              "    "
            ]
          },
          "metadata": {}
        },
        {
          "output_type": "stream",
          "name": "stdout",
          "text": [
            "Thickness\n"
          ]
        },
        {
          "output_type": "display_data",
          "data": {
            "text/plain": [
              "<IPython.core.display.HTML object>"
            ],
            "text/html": [
              "\n",
              "<style>\n",
              "    /* Turns off some styling */\n",
              "    progress {\n",
              "        /* gets rid of default border in Firefox and Opera. */\n",
              "        border: none;\n",
              "        /* Needs to be in here for Safari polyfill so background images work as expected. */\n",
              "        background-size: auto;\n",
              "    }\n",
              "    progress:not([value]), progress:not([value])::-webkit-progress-bar {\n",
              "        background: repeating-linear-gradient(45deg, #7e7e7e, #7e7e7e 10px, #5c5c5c 10px, #5c5c5c 20px);\n",
              "    }\n",
              "    .progress-bar-interrupted, .progress-bar-interrupted::-webkit-progress-bar {\n",
              "        background: #F44336;\n",
              "    }\n",
              "</style>\n"
            ]
          },
          "metadata": {}
        },
        {
          "output_type": "display_data",
          "data": {
            "text/plain": [
              "<IPython.core.display.HTML object>"
            ],
            "text/html": [
              "\n",
              "    <div>\n",
              "      <progress value='7500' class='' max='7500' style='width:300px; height:20px; vertical-align: middle;'></progress>\n",
              "      100.00% [7500/7500 01:36&lt;00:00 Sampling 5 chains, 0 divergences]\n",
              "    </div>\n",
              "    "
            ]
          },
          "metadata": {}
        },
        {
          "output_type": "display_data",
          "data": {
            "text/plain": [
              "<IPython.core.display.HTML object>"
            ],
            "text/html": [
              "\n",
              "<style>\n",
              "    /* Turns off some styling */\n",
              "    progress {\n",
              "        /* gets rid of default border in Firefox and Opera. */\n",
              "        border: none;\n",
              "        /* Needs to be in here for Safari polyfill so background images work as expected. */\n",
              "        background-size: auto;\n",
              "    }\n",
              "    progress:not([value]), progress:not([value])::-webkit-progress-bar {\n",
              "        background: repeating-linear-gradient(45deg, #7e7e7e, #7e7e7e 10px, #5c5c5c 10px, #5c5c5c 20px);\n",
              "    }\n",
              "    .progress-bar-interrupted, .progress-bar-interrupted::-webkit-progress-bar {\n",
              "        background: #F44336;\n",
              "    }\n",
              "</style>\n"
            ]
          },
          "metadata": {}
        },
        {
          "output_type": "display_data",
          "data": {
            "text/plain": [
              "<IPython.core.display.HTML object>"
            ],
            "text/html": [
              "\n",
              "    <div>\n",
              "      <progress value='7500' class='' max='7500' style='width:300px; height:20px; vertical-align: middle;'></progress>\n",
              "      100.00% [7500/7500 01:37&lt;00:00 Sampling 5 chains, 0 divergences]\n",
              "    </div>\n",
              "    "
            ]
          },
          "metadata": {}
        },
        {
          "output_type": "display_data",
          "data": {
            "text/plain": [
              "<IPython.core.display.HTML object>"
            ],
            "text/html": [
              "\n",
              "<style>\n",
              "    /* Turns off some styling */\n",
              "    progress {\n",
              "        /* gets rid of default border in Firefox and Opera. */\n",
              "        border: none;\n",
              "        /* Needs to be in here for Safari polyfill so background images work as expected. */\n",
              "        background-size: auto;\n",
              "    }\n",
              "    progress:not([value]), progress:not([value])::-webkit-progress-bar {\n",
              "        background: repeating-linear-gradient(45deg, #7e7e7e, #7e7e7e 10px, #5c5c5c 10px, #5c5c5c 20px);\n",
              "    }\n",
              "    .progress-bar-interrupted, .progress-bar-interrupted::-webkit-progress-bar {\n",
              "        background: #F44336;\n",
              "    }\n",
              "</style>\n"
            ]
          },
          "metadata": {}
        },
        {
          "output_type": "display_data",
          "data": {
            "text/plain": [
              "<IPython.core.display.HTML object>"
            ],
            "text/html": [
              "\n",
              "    <div>\n",
              "      <progress value='7500' class='' max='7500' style='width:300px; height:20px; vertical-align: middle;'></progress>\n",
              "      100.00% [7500/7500 01:29&lt;00:00 Sampling 5 chains, 0 divergences]\n",
              "    </div>\n",
              "    "
            ]
          },
          "metadata": {}
        },
        {
          "output_type": "display_data",
          "data": {
            "text/plain": [
              "<IPython.core.display.HTML object>"
            ],
            "text/html": [
              "\n",
              "<style>\n",
              "    /* Turns off some styling */\n",
              "    progress {\n",
              "        /* gets rid of default border in Firefox and Opera. */\n",
              "        border: none;\n",
              "        /* Needs to be in here for Safari polyfill so background images work as expected. */\n",
              "        background-size: auto;\n",
              "    }\n",
              "    progress:not([value]), progress:not([value])::-webkit-progress-bar {\n",
              "        background: repeating-linear-gradient(45deg, #7e7e7e, #7e7e7e 10px, #5c5c5c 10px, #5c5c5c 20px);\n",
              "    }\n",
              "    .progress-bar-interrupted, .progress-bar-interrupted::-webkit-progress-bar {\n",
              "        background: #F44336;\n",
              "    }\n",
              "</style>\n"
            ]
          },
          "metadata": {}
        },
        {
          "output_type": "display_data",
          "data": {
            "text/plain": [
              "<IPython.core.display.HTML object>"
            ],
            "text/html": [
              "\n",
              "    <div>\n",
              "      <progress value='7500' class='' max='7500' style='width:300px; height:20px; vertical-align: middle;'></progress>\n",
              "      100.00% [7500/7500 01:36&lt;00:00 Sampling 5 chains, 0 divergences]\n",
              "    </div>\n",
              "    "
            ]
          },
          "metadata": {}
        },
        {
          "output_type": "display_data",
          "data": {
            "text/plain": [
              "<IPython.core.display.HTML object>"
            ],
            "text/html": [
              "\n",
              "<style>\n",
              "    /* Turns off some styling */\n",
              "    progress {\n",
              "        /* gets rid of default border in Firefox and Opera. */\n",
              "        border: none;\n",
              "        /* Needs to be in here for Safari polyfill so background images work as expected. */\n",
              "        background-size: auto;\n",
              "    }\n",
              "    progress:not([value]), progress:not([value])::-webkit-progress-bar {\n",
              "        background: repeating-linear-gradient(45deg, #7e7e7e, #7e7e7e 10px, #5c5c5c 10px, #5c5c5c 20px);\n",
              "    }\n",
              "    .progress-bar-interrupted, .progress-bar-interrupted::-webkit-progress-bar {\n",
              "        background: #F44336;\n",
              "    }\n",
              "</style>\n"
            ]
          },
          "metadata": {}
        },
        {
          "output_type": "display_data",
          "data": {
            "text/plain": [
              "<IPython.core.display.HTML object>"
            ],
            "text/html": [
              "\n",
              "    <div>\n",
              "      <progress value='7500' class='' max='7500' style='width:300px; height:20px; vertical-align: middle;'></progress>\n",
              "      100.00% [7500/7500 02:06&lt;00:00 Sampling 5 chains, 0 divergences]\n",
              "    </div>\n",
              "    "
            ]
          },
          "metadata": {}
        },
        {
          "output_type": "stream",
          "name": "stdout",
          "text": [
            "PCE\n"
          ]
        },
        {
          "output_type": "display_data",
          "data": {
            "text/plain": [
              "<IPython.core.display.HTML object>"
            ],
            "text/html": [
              "\n",
              "<style>\n",
              "    /* Turns off some styling */\n",
              "    progress {\n",
              "        /* gets rid of default border in Firefox and Opera. */\n",
              "        border: none;\n",
              "        /* Needs to be in here for Safari polyfill so background images work as expected. */\n",
              "        background-size: auto;\n",
              "    }\n",
              "    progress:not([value]), progress:not([value])::-webkit-progress-bar {\n",
              "        background: repeating-linear-gradient(45deg, #7e7e7e, #7e7e7e 10px, #5c5c5c 10px, #5c5c5c 20px);\n",
              "    }\n",
              "    .progress-bar-interrupted, .progress-bar-interrupted::-webkit-progress-bar {\n",
              "        background: #F44336;\n",
              "    }\n",
              "</style>\n"
            ]
          },
          "metadata": {}
        },
        {
          "output_type": "display_data",
          "data": {
            "text/plain": [
              "<IPython.core.display.HTML object>"
            ],
            "text/html": [
              "\n",
              "    <div>\n",
              "      <progress value='7500' class='' max='7500' style='width:300px; height:20px; vertical-align: middle;'></progress>\n",
              "      100.00% [7500/7500 03:15&lt;00:00 Sampling 5 chains, 0 divergences]\n",
              "    </div>\n",
              "    "
            ]
          },
          "metadata": {}
        },
        {
          "output_type": "display_data",
          "data": {
            "text/plain": [
              "<IPython.core.display.HTML object>"
            ],
            "text/html": [
              "\n",
              "<style>\n",
              "    /* Turns off some styling */\n",
              "    progress {\n",
              "        /* gets rid of default border in Firefox and Opera. */\n",
              "        border: none;\n",
              "        /* Needs to be in here for Safari polyfill so background images work as expected. */\n",
              "        background-size: auto;\n",
              "    }\n",
              "    progress:not([value]), progress:not([value])::-webkit-progress-bar {\n",
              "        background: repeating-linear-gradient(45deg, #7e7e7e, #7e7e7e 10px, #5c5c5c 10px, #5c5c5c 20px);\n",
              "    }\n",
              "    .progress-bar-interrupted, .progress-bar-interrupted::-webkit-progress-bar {\n",
              "        background: #F44336;\n",
              "    }\n",
              "</style>\n"
            ]
          },
          "metadata": {}
        },
        {
          "output_type": "display_data",
          "data": {
            "text/plain": [
              "<IPython.core.display.HTML object>"
            ],
            "text/html": [
              "\n",
              "    <div>\n",
              "      <progress value='7500' class='' max='7500' style='width:300px; height:20px; vertical-align: middle;'></progress>\n",
              "      100.00% [7500/7500 02:52&lt;00:00 Sampling 5 chains, 0 divergences]\n",
              "    </div>\n",
              "    "
            ]
          },
          "metadata": {}
        },
        {
          "output_type": "display_data",
          "data": {
            "text/plain": [
              "<IPython.core.display.HTML object>"
            ],
            "text/html": [
              "\n",
              "<style>\n",
              "    /* Turns off some styling */\n",
              "    progress {\n",
              "        /* gets rid of default border in Firefox and Opera. */\n",
              "        border: none;\n",
              "        /* Needs to be in here for Safari polyfill so background images work as expected. */\n",
              "        background-size: auto;\n",
              "    }\n",
              "    progress:not([value]), progress:not([value])::-webkit-progress-bar {\n",
              "        background: repeating-linear-gradient(45deg, #7e7e7e, #7e7e7e 10px, #5c5c5c 10px, #5c5c5c 20px);\n",
              "    }\n",
              "    .progress-bar-interrupted, .progress-bar-interrupted::-webkit-progress-bar {\n",
              "        background: #F44336;\n",
              "    }\n",
              "</style>\n"
            ]
          },
          "metadata": {}
        },
        {
          "output_type": "display_data",
          "data": {
            "text/plain": [
              "<IPython.core.display.HTML object>"
            ],
            "text/html": [
              "\n",
              "    <div>\n",
              "      <progress value='7500' class='' max='7500' style='width:300px; height:20px; vertical-align: middle;'></progress>\n",
              "      100.00% [7500/7500 03:05&lt;00:00 Sampling 5 chains, 0 divergences]\n",
              "    </div>\n",
              "    "
            ]
          },
          "metadata": {}
        },
        {
          "output_type": "display_data",
          "data": {
            "text/plain": [
              "<IPython.core.display.HTML object>"
            ],
            "text/html": [
              "\n",
              "<style>\n",
              "    /* Turns off some styling */\n",
              "    progress {\n",
              "        /* gets rid of default border in Firefox and Opera. */\n",
              "        border: none;\n",
              "        /* Needs to be in here for Safari polyfill so background images work as expected. */\n",
              "        background-size: auto;\n",
              "    }\n",
              "    progress:not([value]), progress:not([value])::-webkit-progress-bar {\n",
              "        background: repeating-linear-gradient(45deg, #7e7e7e, #7e7e7e 10px, #5c5c5c 10px, #5c5c5c 20px);\n",
              "    }\n",
              "    .progress-bar-interrupted, .progress-bar-interrupted::-webkit-progress-bar {\n",
              "        background: #F44336;\n",
              "    }\n",
              "</style>\n"
            ]
          },
          "metadata": {}
        },
        {
          "output_type": "display_data",
          "data": {
            "text/plain": [
              "<IPython.core.display.HTML object>"
            ],
            "text/html": [
              "\n",
              "    <div>\n",
              "      <progress value='7500' class='' max='7500' style='width:300px; height:20px; vertical-align: middle;'></progress>\n",
              "      100.00% [7500/7500 03:06&lt;00:00 Sampling 5 chains, 0 divergences]\n",
              "    </div>\n",
              "    "
            ]
          },
          "metadata": {}
        },
        {
          "output_type": "display_data",
          "data": {
            "text/plain": [
              "<IPython.core.display.HTML object>"
            ],
            "text/html": [
              "\n",
              "<style>\n",
              "    /* Turns off some styling */\n",
              "    progress {\n",
              "        /* gets rid of default border in Firefox and Opera. */\n",
              "        border: none;\n",
              "        /* Needs to be in here for Safari polyfill so background images work as expected. */\n",
              "        background-size: auto;\n",
              "    }\n",
              "    progress:not([value]), progress:not([value])::-webkit-progress-bar {\n",
              "        background: repeating-linear-gradient(45deg, #7e7e7e, #7e7e7e 10px, #5c5c5c 10px, #5c5c5c 20px);\n",
              "    }\n",
              "    .progress-bar-interrupted, .progress-bar-interrupted::-webkit-progress-bar {\n",
              "        background: #F44336;\n",
              "    }\n",
              "</style>\n"
            ]
          },
          "metadata": {}
        },
        {
          "output_type": "display_data",
          "data": {
            "text/plain": [
              "<IPython.core.display.HTML object>"
            ],
            "text/html": [
              "\n",
              "    <div>\n",
              "      <progress value='7500' class='' max='7500' style='width:300px; height:20px; vertical-align: middle;'></progress>\n",
              "      100.00% [7500/7500 13:01&lt;00:00 Sampling 5 chains, 1 divergences]\n",
              "    </div>\n",
              "    "
            ]
          },
          "metadata": {}
        },
        {
          "output_type": "stream",
          "name": "stderr",
          "text": [
            "ERROR:pymc.stats.convergence:There were 1 divergences after tuning. Increase `target_accept` or reparameterize.\n"
          ]
        },
        {
          "output_type": "stream",
          "name": "stdout",
          "text": [
            "Voc\n"
          ]
        },
        {
          "output_type": "display_data",
          "data": {
            "text/plain": [
              "<IPython.core.display.HTML object>"
            ],
            "text/html": [
              "\n",
              "<style>\n",
              "    /* Turns off some styling */\n",
              "    progress {\n",
              "        /* gets rid of default border in Firefox and Opera. */\n",
              "        border: none;\n",
              "        /* Needs to be in here for Safari polyfill so background images work as expected. */\n",
              "        background-size: auto;\n",
              "    }\n",
              "    progress:not([value]), progress:not([value])::-webkit-progress-bar {\n",
              "        background: repeating-linear-gradient(45deg, #7e7e7e, #7e7e7e 10px, #5c5c5c 10px, #5c5c5c 20px);\n",
              "    }\n",
              "    .progress-bar-interrupted, .progress-bar-interrupted::-webkit-progress-bar {\n",
              "        background: #F44336;\n",
              "    }\n",
              "</style>\n"
            ]
          },
          "metadata": {}
        },
        {
          "output_type": "display_data",
          "data": {
            "text/plain": [
              "<IPython.core.display.HTML object>"
            ],
            "text/html": [
              "\n",
              "    <div>\n",
              "      <progress value='7500' class='' max='7500' style='width:300px; height:20px; vertical-align: middle;'></progress>\n",
              "      100.00% [7500/7500 01:29&lt;00:00 Sampling 5 chains, 0 divergences]\n",
              "    </div>\n",
              "    "
            ]
          },
          "metadata": {}
        },
        {
          "output_type": "display_data",
          "data": {
            "text/plain": [
              "<IPython.core.display.HTML object>"
            ],
            "text/html": [
              "\n",
              "<style>\n",
              "    /* Turns off some styling */\n",
              "    progress {\n",
              "        /* gets rid of default border in Firefox and Opera. */\n",
              "        border: none;\n",
              "        /* Needs to be in here for Safari polyfill so background images work as expected. */\n",
              "        background-size: auto;\n",
              "    }\n",
              "    progress:not([value]), progress:not([value])::-webkit-progress-bar {\n",
              "        background: repeating-linear-gradient(45deg, #7e7e7e, #7e7e7e 10px, #5c5c5c 10px, #5c5c5c 20px);\n",
              "    }\n",
              "    .progress-bar-interrupted, .progress-bar-interrupted::-webkit-progress-bar {\n",
              "        background: #F44336;\n",
              "    }\n",
              "</style>\n"
            ]
          },
          "metadata": {}
        },
        {
          "output_type": "display_data",
          "data": {
            "text/plain": [
              "<IPython.core.display.HTML object>"
            ],
            "text/html": [
              "\n",
              "    <div>\n",
              "      <progress value='7500' class='' max='7500' style='width:300px; height:20px; vertical-align: middle;'></progress>\n",
              "      100.00% [7500/7500 01:20&lt;00:00 Sampling 5 chains, 0 divergences]\n",
              "    </div>\n",
              "    "
            ]
          },
          "metadata": {}
        },
        {
          "output_type": "display_data",
          "data": {
            "text/plain": [
              "<IPython.core.display.HTML object>"
            ],
            "text/html": [
              "\n",
              "<style>\n",
              "    /* Turns off some styling */\n",
              "    progress {\n",
              "        /* gets rid of default border in Firefox and Opera. */\n",
              "        border: none;\n",
              "        /* Needs to be in here for Safari polyfill so background images work as expected. */\n",
              "        background-size: auto;\n",
              "    }\n",
              "    progress:not([value]), progress:not([value])::-webkit-progress-bar {\n",
              "        background: repeating-linear-gradient(45deg, #7e7e7e, #7e7e7e 10px, #5c5c5c 10px, #5c5c5c 20px);\n",
              "    }\n",
              "    .progress-bar-interrupted, .progress-bar-interrupted::-webkit-progress-bar {\n",
              "        background: #F44336;\n",
              "    }\n",
              "</style>\n"
            ]
          },
          "metadata": {}
        },
        {
          "output_type": "display_data",
          "data": {
            "text/plain": [
              "<IPython.core.display.HTML object>"
            ],
            "text/html": [
              "\n",
              "    <div>\n",
              "      <progress value='7500' class='' max='7500' style='width:300px; height:20px; vertical-align: middle;'></progress>\n",
              "      100.00% [7500/7500 01:31&lt;00:00 Sampling 5 chains, 0 divergences]\n",
              "    </div>\n",
              "    "
            ]
          },
          "metadata": {}
        },
        {
          "output_type": "display_data",
          "data": {
            "text/plain": [
              "<IPython.core.display.HTML object>"
            ],
            "text/html": [
              "\n",
              "<style>\n",
              "    /* Turns off some styling */\n",
              "    progress {\n",
              "        /* gets rid of default border in Firefox and Opera. */\n",
              "        border: none;\n",
              "        /* Needs to be in here for Safari polyfill so background images work as expected. */\n",
              "        background-size: auto;\n",
              "    }\n",
              "    progress:not([value]), progress:not([value])::-webkit-progress-bar {\n",
              "        background: repeating-linear-gradient(45deg, #7e7e7e, #7e7e7e 10px, #5c5c5c 10px, #5c5c5c 20px);\n",
              "    }\n",
              "    .progress-bar-interrupted, .progress-bar-interrupted::-webkit-progress-bar {\n",
              "        background: #F44336;\n",
              "    }\n",
              "</style>\n"
            ]
          },
          "metadata": {}
        },
        {
          "output_type": "display_data",
          "data": {
            "text/plain": [
              "<IPython.core.display.HTML object>"
            ],
            "text/html": [
              "\n",
              "    <div>\n",
              "      <progress value='7500' class='' max='7500' style='width:300px; height:20px; vertical-align: middle;'></progress>\n",
              "      100.00% [7500/7500 01:27&lt;00:00 Sampling 5 chains, 0 divergences]\n",
              "    </div>\n",
              "    "
            ]
          },
          "metadata": {}
        },
        {
          "output_type": "display_data",
          "data": {
            "text/plain": [
              "<IPython.core.display.HTML object>"
            ],
            "text/html": [
              "\n",
              "<style>\n",
              "    /* Turns off some styling */\n",
              "    progress {\n",
              "        /* gets rid of default border in Firefox and Opera. */\n",
              "        border: none;\n",
              "        /* Needs to be in here for Safari polyfill so background images work as expected. */\n",
              "        background-size: auto;\n",
              "    }\n",
              "    progress:not([value]), progress:not([value])::-webkit-progress-bar {\n",
              "        background: repeating-linear-gradient(45deg, #7e7e7e, #7e7e7e 10px, #5c5c5c 10px, #5c5c5c 20px);\n",
              "    }\n",
              "    .progress-bar-interrupted, .progress-bar-interrupted::-webkit-progress-bar {\n",
              "        background: #F44336;\n",
              "    }\n",
              "</style>\n"
            ]
          },
          "metadata": {}
        },
        {
          "output_type": "display_data",
          "data": {
            "text/plain": [
              "<IPython.core.display.HTML object>"
            ],
            "text/html": [
              "\n",
              "    <div>\n",
              "      <progress value='7500' class='' max='7500' style='width:300px; height:20px; vertical-align: middle;'></progress>\n",
              "      100.00% [7500/7500 04:02&lt;00:00 Sampling 5 chains, 0 divergences]\n",
              "    </div>\n",
              "    "
            ]
          },
          "metadata": {}
        },
        {
          "output_type": "stream",
          "name": "stdout",
          "text": [
            "Jsc\n"
          ]
        },
        {
          "output_type": "display_data",
          "data": {
            "text/plain": [
              "<IPython.core.display.HTML object>"
            ],
            "text/html": [
              "\n",
              "<style>\n",
              "    /* Turns off some styling */\n",
              "    progress {\n",
              "        /* gets rid of default border in Firefox and Opera. */\n",
              "        border: none;\n",
              "        /* Needs to be in here for Safari polyfill so background images work as expected. */\n",
              "        background-size: auto;\n",
              "    }\n",
              "    progress:not([value]), progress:not([value])::-webkit-progress-bar {\n",
              "        background: repeating-linear-gradient(45deg, #7e7e7e, #7e7e7e 10px, #5c5c5c 10px, #5c5c5c 20px);\n",
              "    }\n",
              "    .progress-bar-interrupted, .progress-bar-interrupted::-webkit-progress-bar {\n",
              "        background: #F44336;\n",
              "    }\n",
              "</style>\n"
            ]
          },
          "metadata": {}
        },
        {
          "output_type": "display_data",
          "data": {
            "text/plain": [
              "<IPython.core.display.HTML object>"
            ],
            "text/html": [
              "\n",
              "    <div>\n",
              "      <progress value='7500' class='' max='7500' style='width:300px; height:20px; vertical-align: middle;'></progress>\n",
              "      100.00% [7500/7500 03:17&lt;00:00 Sampling 5 chains, 2 divergences]\n",
              "    </div>\n",
              "    "
            ]
          },
          "metadata": {}
        },
        {
          "output_type": "stream",
          "name": "stderr",
          "text": [
            "ERROR:pymc.stats.convergence:There were 2 divergences after tuning. Increase `target_accept` or reparameterize.\n"
          ]
        },
        {
          "output_type": "display_data",
          "data": {
            "text/plain": [
              "<IPython.core.display.HTML object>"
            ],
            "text/html": [
              "\n",
              "<style>\n",
              "    /* Turns off some styling */\n",
              "    progress {\n",
              "        /* gets rid of default border in Firefox and Opera. */\n",
              "        border: none;\n",
              "        /* Needs to be in here for Safari polyfill so background images work as expected. */\n",
              "        background-size: auto;\n",
              "    }\n",
              "    progress:not([value]), progress:not([value])::-webkit-progress-bar {\n",
              "        background: repeating-linear-gradient(45deg, #7e7e7e, #7e7e7e 10px, #5c5c5c 10px, #5c5c5c 20px);\n",
              "    }\n",
              "    .progress-bar-interrupted, .progress-bar-interrupted::-webkit-progress-bar {\n",
              "        background: #F44336;\n",
              "    }\n",
              "</style>\n"
            ]
          },
          "metadata": {}
        },
        {
          "output_type": "display_data",
          "data": {
            "text/plain": [
              "<IPython.core.display.HTML object>"
            ],
            "text/html": [
              "\n",
              "    <div>\n",
              "      <progress value='7500' class='' max='7500' style='width:300px; height:20px; vertical-align: middle;'></progress>\n",
              "      100.00% [7500/7500 02:55&lt;00:00 Sampling 5 chains, 0 divergences]\n",
              "    </div>\n",
              "    "
            ]
          },
          "metadata": {}
        },
        {
          "output_type": "display_data",
          "data": {
            "text/plain": [
              "<IPython.core.display.HTML object>"
            ],
            "text/html": [
              "\n",
              "<style>\n",
              "    /* Turns off some styling */\n",
              "    progress {\n",
              "        /* gets rid of default border in Firefox and Opera. */\n",
              "        border: none;\n",
              "        /* Needs to be in here for Safari polyfill so background images work as expected. */\n",
              "        background-size: auto;\n",
              "    }\n",
              "    progress:not([value]), progress:not([value])::-webkit-progress-bar {\n",
              "        background: repeating-linear-gradient(45deg, #7e7e7e, #7e7e7e 10px, #5c5c5c 10px, #5c5c5c 20px);\n",
              "    }\n",
              "    .progress-bar-interrupted, .progress-bar-interrupted::-webkit-progress-bar {\n",
              "        background: #F44336;\n",
              "    }\n",
              "</style>\n"
            ]
          },
          "metadata": {}
        },
        {
          "output_type": "display_data",
          "data": {
            "text/plain": [
              "<IPython.core.display.HTML object>"
            ],
            "text/html": [
              "\n",
              "    <div>\n",
              "      <progress value='7500' class='' max='7500' style='width:300px; height:20px; vertical-align: middle;'></progress>\n",
              "      100.00% [7500/7500 03:14&lt;00:00 Sampling 5 chains, 0 divergences]\n",
              "    </div>\n",
              "    "
            ]
          },
          "metadata": {}
        },
        {
          "output_type": "display_data",
          "data": {
            "text/plain": [
              "<IPython.core.display.HTML object>"
            ],
            "text/html": [
              "\n",
              "<style>\n",
              "    /* Turns off some styling */\n",
              "    progress {\n",
              "        /* gets rid of default border in Firefox and Opera. */\n",
              "        border: none;\n",
              "        /* Needs to be in here for Safari polyfill so background images work as expected. */\n",
              "        background-size: auto;\n",
              "    }\n",
              "    progress:not([value]), progress:not([value])::-webkit-progress-bar {\n",
              "        background: repeating-linear-gradient(45deg, #7e7e7e, #7e7e7e 10px, #5c5c5c 10px, #5c5c5c 20px);\n",
              "    }\n",
              "    .progress-bar-interrupted, .progress-bar-interrupted::-webkit-progress-bar {\n",
              "        background: #F44336;\n",
              "    }\n",
              "</style>\n"
            ]
          },
          "metadata": {}
        },
        {
          "output_type": "display_data",
          "data": {
            "text/plain": [
              "<IPython.core.display.HTML object>"
            ],
            "text/html": [
              "\n",
              "    <div>\n",
              "      <progress value='7500' class='' max='7500' style='width:300px; height:20px; vertical-align: middle;'></progress>\n",
              "      100.00% [7500/7500 03:21&lt;00:00 Sampling 5 chains, 0 divergences]\n",
              "    </div>\n",
              "    "
            ]
          },
          "metadata": {}
        },
        {
          "output_type": "display_data",
          "data": {
            "text/plain": [
              "<IPython.core.display.HTML object>"
            ],
            "text/html": [
              "\n",
              "<style>\n",
              "    /* Turns off some styling */\n",
              "    progress {\n",
              "        /* gets rid of default border in Firefox and Opera. */\n",
              "        border: none;\n",
              "        /* Needs to be in here for Safari polyfill so background images work as expected. */\n",
              "        background-size: auto;\n",
              "    }\n",
              "    progress:not([value]), progress:not([value])::-webkit-progress-bar {\n",
              "        background: repeating-linear-gradient(45deg, #7e7e7e, #7e7e7e 10px, #5c5c5c 10px, #5c5c5c 20px);\n",
              "    }\n",
              "    .progress-bar-interrupted, .progress-bar-interrupted::-webkit-progress-bar {\n",
              "        background: #F44336;\n",
              "    }\n",
              "</style>\n"
            ]
          },
          "metadata": {}
        },
        {
          "output_type": "display_data",
          "data": {
            "text/plain": [
              "<IPython.core.display.HTML object>"
            ],
            "text/html": [
              "\n",
              "    <div>\n",
              "      <progress value='7500' class='' max='7500' style='width:300px; height:20px; vertical-align: middle;'></progress>\n",
              "      100.00% [7500/7500 09:52&lt;00:00 Sampling 5 chains, 0 divergences]\n",
              "    </div>\n",
              "    "
            ]
          },
          "metadata": {}
        },
        {
          "output_type": "stream",
          "name": "stdout",
          "text": [
            "FF\n"
          ]
        },
        {
          "output_type": "display_data",
          "data": {
            "text/plain": [
              "<IPython.core.display.HTML object>"
            ],
            "text/html": [
              "\n",
              "<style>\n",
              "    /* Turns off some styling */\n",
              "    progress {\n",
              "        /* gets rid of default border in Firefox and Opera. */\n",
              "        border: none;\n",
              "        /* Needs to be in here for Safari polyfill so background images work as expected. */\n",
              "        background-size: auto;\n",
              "    }\n",
              "    progress:not([value]), progress:not([value])::-webkit-progress-bar {\n",
              "        background: repeating-linear-gradient(45deg, #7e7e7e, #7e7e7e 10px, #5c5c5c 10px, #5c5c5c 20px);\n",
              "    }\n",
              "    .progress-bar-interrupted, .progress-bar-interrupted::-webkit-progress-bar {\n",
              "        background: #F44336;\n",
              "    }\n",
              "</style>\n"
            ]
          },
          "metadata": {}
        },
        {
          "output_type": "display_data",
          "data": {
            "text/plain": [
              "<IPython.core.display.HTML object>"
            ],
            "text/html": [
              "\n",
              "    <div>\n",
              "      <progress value='7500' class='' max='7500' style='width:300px; height:20px; vertical-align: middle;'></progress>\n",
              "      100.00% [7500/7500 01:27&lt;00:00 Sampling 5 chains, 0 divergences]\n",
              "    </div>\n",
              "    "
            ]
          },
          "metadata": {}
        },
        {
          "output_type": "display_data",
          "data": {
            "text/plain": [
              "<IPython.core.display.HTML object>"
            ],
            "text/html": [
              "\n",
              "<style>\n",
              "    /* Turns off some styling */\n",
              "    progress {\n",
              "        /* gets rid of default border in Firefox and Opera. */\n",
              "        border: none;\n",
              "        /* Needs to be in here for Safari polyfill so background images work as expected. */\n",
              "        background-size: auto;\n",
              "    }\n",
              "    progress:not([value]), progress:not([value])::-webkit-progress-bar {\n",
              "        background: repeating-linear-gradient(45deg, #7e7e7e, #7e7e7e 10px, #5c5c5c 10px, #5c5c5c 20px);\n",
              "    }\n",
              "    .progress-bar-interrupted, .progress-bar-interrupted::-webkit-progress-bar {\n",
              "        background: #F44336;\n",
              "    }\n",
              "</style>\n"
            ]
          },
          "metadata": {}
        },
        {
          "output_type": "display_data",
          "data": {
            "text/plain": [
              "<IPython.core.display.HTML object>"
            ],
            "text/html": [
              "\n",
              "    <div>\n",
              "      <progress value='7500' class='' max='7500' style='width:300px; height:20px; vertical-align: middle;'></progress>\n",
              "      100.00% [7500/7500 01:19&lt;00:00 Sampling 5 chains, 0 divergences]\n",
              "    </div>\n",
              "    "
            ]
          },
          "metadata": {}
        },
        {
          "output_type": "display_data",
          "data": {
            "text/plain": [
              "<IPython.core.display.HTML object>"
            ],
            "text/html": [
              "\n",
              "<style>\n",
              "    /* Turns off some styling */\n",
              "    progress {\n",
              "        /* gets rid of default border in Firefox and Opera. */\n",
              "        border: none;\n",
              "        /* Needs to be in here for Safari polyfill so background images work as expected. */\n",
              "        background-size: auto;\n",
              "    }\n",
              "    progress:not([value]), progress:not([value])::-webkit-progress-bar {\n",
              "        background: repeating-linear-gradient(45deg, #7e7e7e, #7e7e7e 10px, #5c5c5c 10px, #5c5c5c 20px);\n",
              "    }\n",
              "    .progress-bar-interrupted, .progress-bar-interrupted::-webkit-progress-bar {\n",
              "        background: #F44336;\n",
              "    }\n",
              "</style>\n"
            ]
          },
          "metadata": {}
        },
        {
          "output_type": "display_data",
          "data": {
            "text/plain": [
              "<IPython.core.display.HTML object>"
            ],
            "text/html": [
              "\n",
              "    <div>\n",
              "      <progress value='7500' class='' max='7500' style='width:300px; height:20px; vertical-align: middle;'></progress>\n",
              "      100.00% [7500/7500 01:28&lt;00:00 Sampling 5 chains, 1 divergences]\n",
              "    </div>\n",
              "    "
            ]
          },
          "metadata": {}
        },
        {
          "output_type": "stream",
          "name": "stderr",
          "text": [
            "ERROR:pymc.stats.convergence:There were 1 divergences after tuning. Increase `target_accept` or reparameterize.\n"
          ]
        },
        {
          "output_type": "display_data",
          "data": {
            "text/plain": [
              "<IPython.core.display.HTML object>"
            ],
            "text/html": [
              "\n",
              "<style>\n",
              "    /* Turns off some styling */\n",
              "    progress {\n",
              "        /* gets rid of default border in Firefox and Opera. */\n",
              "        border: none;\n",
              "        /* Needs to be in here for Safari polyfill so background images work as expected. */\n",
              "        background-size: auto;\n",
              "    }\n",
              "    progress:not([value]), progress:not([value])::-webkit-progress-bar {\n",
              "        background: repeating-linear-gradient(45deg, #7e7e7e, #7e7e7e 10px, #5c5c5c 10px, #5c5c5c 20px);\n",
              "    }\n",
              "    .progress-bar-interrupted, .progress-bar-interrupted::-webkit-progress-bar {\n",
              "        background: #F44336;\n",
              "    }\n",
              "</style>\n"
            ]
          },
          "metadata": {}
        },
        {
          "output_type": "display_data",
          "data": {
            "text/plain": [
              "<IPython.core.display.HTML object>"
            ],
            "text/html": [
              "\n",
              "    <div>\n",
              "      <progress value='7500' class='' max='7500' style='width:300px; height:20px; vertical-align: middle;'></progress>\n",
              "      100.00% [7500/7500 01:23&lt;00:00 Sampling 5 chains, 0 divergences]\n",
              "    </div>\n",
              "    "
            ]
          },
          "metadata": {}
        },
        {
          "output_type": "display_data",
          "data": {
            "text/plain": [
              "<IPython.core.display.HTML object>"
            ],
            "text/html": [
              "\n",
              "<style>\n",
              "    /* Turns off some styling */\n",
              "    progress {\n",
              "        /* gets rid of default border in Firefox and Opera. */\n",
              "        border: none;\n",
              "        /* Needs to be in here for Safari polyfill so background images work as expected. */\n",
              "        background-size: auto;\n",
              "    }\n",
              "    progress:not([value]), progress:not([value])::-webkit-progress-bar {\n",
              "        background: repeating-linear-gradient(45deg, #7e7e7e, #7e7e7e 10px, #5c5c5c 10px, #5c5c5c 20px);\n",
              "    }\n",
              "    .progress-bar-interrupted, .progress-bar-interrupted::-webkit-progress-bar {\n",
              "        background: #F44336;\n",
              "    }\n",
              "</style>\n"
            ]
          },
          "metadata": {}
        },
        {
          "output_type": "display_data",
          "data": {
            "text/plain": [
              "<IPython.core.display.HTML object>"
            ],
            "text/html": [
              "\n",
              "    <div>\n",
              "      <progress value='7500' class='' max='7500' style='width:300px; height:20px; vertical-align: middle;'></progress>\n",
              "      100.00% [7500/7500 03:10&lt;00:00 Sampling 5 chains, 0 divergences]\n",
              "    </div>\n",
              "    "
            ]
          },
          "metadata": {}
        }
      ]
    },
    {
      "cell_type": "markdown",
      "source": [
        "- GUARDADO DE LOS MODELOS"
      ],
      "metadata": {
        "id": "j7wJh7N4wvCA"
      }
    },
    {
      "cell_type": "code",
      "source": [
        "#----------------------------Construccion y guardado de archivos descargables----------------------------\n",
        "ruta_drive = '/content/drive/MyDrive/Deep Learning/TG/'\n",
        "with open(ruta_drive + 'data_train.pkl', 'wb') as f:\n",
        "    pickle.dump(data_train, f)\n",
        "with open(ruta_drive + 'data_test.pkl', 'wb') as f:\n",
        "    pickle.dump(data_test, f)\n",
        "with open(ruta_drive + 'trazados.pkl', 'wb') as f:\n",
        "    pickle.dump(trazados_data, f)"
      ],
      "metadata": {
        "id": "aeDnYwWNwuwQ"
      },
      "execution_count": null,
      "outputs": []
    }
  ]
}